{
 "cells": [
  {
   "cell_type": "markdown",
   "metadata": {},
   "source": [
    "# Research on apartment sales ads\n",
    "\n",
    "You will have the data from a real estate agency. It is an archive of sales ads for realty in St. Petersburg, Russia, and the surrounding areas collected over the past few years. You’ll need to learn how to determine the market value of real estate properties. Your task is to define the parameters. This will make it possible to build an automated system that is capable of detecting anomalies and fraudulent activity.\n",
    "\n",
    "There are two different types of data available for every apartment for sale. The first type is a user’s input. The second type is received automatically based upon the map data. For example, the distance from the downtown area, airport, the nearest park or body of water. "
   ]
  },
  {
   "cell_type": "markdown",
   "metadata": {},
   "source": [
    "### Step 1. Open the data file and study the general information. "
   ]
  },
  {
   "cell_type": "code",
   "execution_count": 2,
   "metadata": {},
   "outputs": [
    {
     "name": "stdout",
     "output_type": "stream",
     "text": [
      "<class 'pandas.core.frame.DataFrame'>\n",
      "RangeIndex: 23699 entries, 0 to 23698\n",
      "Data columns (total 22 columns):\n",
      " #   Column                Non-Null Count  Dtype  \n",
      "---  ------                --------------  -----  \n",
      " 0   total_images          23699 non-null  int64  \n",
      " 1   last_price            23699 non-null  float64\n",
      " 2   total_area            23699 non-null  float64\n",
      " 3   first_day_exposition  23699 non-null  object \n",
      " 4   rooms                 23699 non-null  int64  \n",
      " 5   ceiling_height        14504 non-null  float64\n",
      " 6   floors_total          23613 non-null  float64\n",
      " 7   living_area           21796 non-null  float64\n",
      " 8   floor                 23699 non-null  int64  \n",
      " 9   is_apartment          2775 non-null   object \n",
      " 10  studio                23699 non-null  bool   \n",
      " 11  open_plan             23699 non-null  bool   \n",
      " 12  kitchen_area          21421 non-null  float64\n",
      " 13  balcony               12180 non-null  float64\n",
      " 14  locality_name         23650 non-null  object \n",
      " 15  airports_nearest      18157 non-null  float64\n",
      " 16  cityCenters_nearest   18180 non-null  float64\n",
      " 17  parks_around3000      18181 non-null  float64\n",
      " 18  parks_nearest         8079 non-null   float64\n",
      " 19  ponds_around3000      18181 non-null  float64\n",
      " 20  ponds_nearest         9110 non-null   float64\n",
      " 21  days_exposition       20518 non-null  float64\n",
      "dtypes: bool(2), float64(14), int64(3), object(3)\n",
      "memory usage: 3.7+ MB\n",
      "None\n",
      "    total_images  last_price  total_area first_day_exposition  rooms  \\\n",
      "0             20  13000000.0      108.00  2019-03-07T00:00:00      3   \n",
      "1              7   3350000.0       40.40  2018-12-04T00:00:00      1   \n",
      "2             10   5196000.0       56.00  2015-08-20T00:00:00      2   \n",
      "3              0  64900000.0      159.00  2015-07-24T00:00:00      3   \n",
      "4              2  10000000.0      100.00  2018-06-19T00:00:00      2   \n",
      "5             10   2890000.0       30.40  2018-09-10T00:00:00      1   \n",
      "6              6   3700000.0       37.30  2017-11-02T00:00:00      1   \n",
      "7              5   7915000.0       71.60  2019-04-18T00:00:00      2   \n",
      "8             20   2900000.0       33.16  2018-05-23T00:00:00      1   \n",
      "9             18   5400000.0       61.00  2017-02-26T00:00:00      3   \n",
      "10             5   5050000.0       39.60  2017-11-16T00:00:00      1   \n",
      "11             9   3300000.0       44.00  2018-08-27T00:00:00      2   \n",
      "12            10   3890000.0       54.00  2016-06-30T00:00:00      2   \n",
      "13            20   3550000.0       42.80  2017-07-01T00:00:00      2   \n",
      "14             1   4400000.0       36.00  2016-06-23T00:00:00      1   \n",
      "15            16   4650000.0       39.00  2017-11-18T00:00:00      1   \n",
      "16            11   6700000.0       82.00  2017-11-23T00:00:00      3   \n",
      "17             6   4180000.0       36.00  2016-09-09T00:00:00      1   \n",
      "18             8   3250000.0       31.00  2017-01-27T00:00:00      1   \n",
      "19            16  14200000.0      121.00  2019-01-09T00:00:00      3   \n",
      "20            12   6120000.0       80.00  2017-09-28T00:00:00      3   \n",
      "21            13   3200000.0       31.60  2018-03-14T00:00:00      1   \n",
      "22            20   5000000.0       58.00  2017-04-24T00:00:00      2   \n",
      "23            11   2950000.0       32.00  2016-10-29T00:00:00      1   \n",
      "24             8   6500000.0       97.20  2015-10-31T00:00:00      2   \n",
      "\n",
      "    ceiling_height  floors_total  living_area  floor is_apartment  ...  \\\n",
      "0             2.70          16.0        51.00      8          NaN  ...   \n",
      "1              NaN          11.0        18.60      1          NaN  ...   \n",
      "2              NaN           5.0        34.30      4          NaN  ...   \n",
      "3              NaN          14.0          NaN      9          NaN  ...   \n",
      "4             3.03          14.0        32.00     13          NaN  ...   \n",
      "5              NaN          12.0        14.40      5          NaN  ...   \n",
      "6              NaN          26.0        10.60      6          NaN  ...   \n",
      "7              NaN          24.0          NaN     22          NaN  ...   \n",
      "8              NaN          27.0        15.43     26          NaN  ...   \n",
      "9             2.50           9.0        43.60      7          NaN  ...   \n",
      "10            2.67          12.0        20.30      3          NaN  ...   \n",
      "11             NaN           5.0        31.00      4        False  ...   \n",
      "12             NaN           5.0        30.00      5          NaN  ...   \n",
      "13            2.56           5.0        27.00      5          NaN  ...   \n",
      "14             NaN           6.0        17.00      1          NaN  ...   \n",
      "15             NaN          14.0        20.50      5          NaN  ...   \n",
      "16            3.05           5.0        55.60      1          NaN  ...   \n",
      "17             NaN          17.0        16.50      7          NaN  ...   \n",
      "18            2.50           5.0        19.40      2          NaN  ...   \n",
      "19            2.75          16.0        76.00      8          NaN  ...   \n",
      "20            2.70          27.0        48.00     11          NaN  ...   \n",
      "21             NaN           5.0        16.90      2          NaN  ...   \n",
      "22            2.75          25.0        30.00     15          NaN  ...   \n",
      "23            2.60           9.0        17.70      9          NaN  ...   \n",
      "24             NaN           3.0        46.50      1          NaN  ...   \n",
      "\n",
      "    kitchen_area  balcony      locality_name  airports_nearest  \\\n",
      "0          25.00      NaN    Saint Peterburg           18863.0   \n",
      "1          11.00      2.0   Shushary village           12817.0   \n",
      "2           8.30      0.0    Saint Peterburg           21741.0   \n",
      "3            NaN      0.0    Saint Peterburg           28098.0   \n",
      "4          41.00      NaN    Saint Peterburg           31856.0   \n",
      "5           9.10      NaN     Yanino village               NaN   \n",
      "6          14.40      1.0  Pargolovo village           52996.0   \n",
      "7          18.90      2.0    Saint Peterburg           23982.0   \n",
      "8           8.81      NaN     Murino village               NaN   \n",
      "9           6.50      2.0    Saint Peterburg           50898.0   \n",
      "10          8.50      NaN    Saint Peterburg           38357.0   \n",
      "11          6.00      1.0          Lomonosov           48252.0   \n",
      "12          9.00      0.0          Sertolovo               NaN   \n",
      "13          5.20      1.0           Petergof           37868.0   \n",
      "14          8.00      0.0            Pushkin           20782.0   \n",
      "15          7.60      1.0    Saint Peterburg           12900.0   \n",
      "16          9.00      NaN    Saint Peterburg           22108.0   \n",
      "17         11.00      1.0    Saint Peterburg           33564.0   \n",
      "18          5.60      1.0    Saint Peterburg           44060.0   \n",
      "19         12.00      NaN    Saint Peterburg           38900.0   \n",
      "20         12.00      2.0  Pargolovo village           53134.0   \n",
      "21          5.70      1.0    Saint Peterburg           36064.0   \n",
      "22         11.00      2.0   Kudrovo village                NaN   \n",
      "23          6.10      NaN    Saint Peterburg           15414.0   \n",
      "24         19.60      0.0    Saint Peterburg           20052.0   \n",
      "\n",
      "   cityCenters_nearest  parks_around3000  parks_nearest  ponds_around3000  \\\n",
      "0              16028.0               1.0          482.0               2.0   \n",
      "1              18603.0               0.0            NaN               0.0   \n",
      "2              13933.0               1.0           90.0               2.0   \n",
      "3               6800.0               2.0           84.0               3.0   \n",
      "4               8098.0               2.0          112.0               1.0   \n",
      "5                  NaN               NaN            NaN               NaN   \n",
      "6              19143.0               0.0            NaN               0.0   \n",
      "7              11634.0               0.0            NaN               0.0   \n",
      "8                  NaN               NaN            NaN               NaN   \n",
      "9              15008.0               0.0            NaN               0.0   \n",
      "10             13878.0               1.0          310.0               2.0   \n",
      "11             51677.0               0.0            NaN               0.0   \n",
      "12                 NaN               NaN            NaN               NaN   \n",
      "13             33058.0               1.0          294.0               3.0   \n",
      "14             30759.0               0.0            NaN               1.0   \n",
      "15             14259.0               1.0          590.0               1.0   \n",
      "16             10698.0               3.0          420.0               0.0   \n",
      "17             14616.0               0.0            NaN               1.0   \n",
      "18             10842.0               1.0          759.0               0.0   \n",
      "19             12843.0               0.0            NaN               0.0   \n",
      "20             19311.0               0.0            NaN               0.0   \n",
      "21              9722.0               1.0          248.0               0.0   \n",
      "22                 NaN               NaN            NaN               NaN   \n",
      "23             14211.0               2.0          517.0               1.0   \n",
      "24              2336.0               3.0          411.0               3.0   \n",
      "\n",
      "    ponds_nearest  days_exposition  \n",
      "0           755.0              NaN  \n",
      "1             NaN             81.0  \n",
      "2           574.0            558.0  \n",
      "3           234.0            424.0  \n",
      "4            48.0            121.0  \n",
      "5             NaN             55.0  \n",
      "6             NaN            155.0  \n",
      "7             NaN              NaN  \n",
      "8             NaN            189.0  \n",
      "9             NaN            289.0  \n",
      "10          553.0            137.0  \n",
      "11            NaN              7.0  \n",
      "12            NaN             90.0  \n",
      "13          298.0            366.0  \n",
      "14           96.0            203.0  \n",
      "15          296.0             19.0  \n",
      "16            NaN            397.0  \n",
      "17          859.0            571.0  \n",
      "18            NaN            168.0  \n",
      "19            NaN             97.0  \n",
      "20            NaN             74.0  \n",
      "21            NaN            310.0  \n",
      "22            NaN             60.0  \n",
      "23          190.0            615.0  \n",
      "24          124.0            265.0  \n",
      "\n",
      "[25 rows x 22 columns]\n"
     ]
    }
   ],
   "source": [
    "import pandas as pd\n",
    "file = pd.read_csv('/datasets/real_estate_data_eng.csv', sep='\\t')\n",
    "print(file.info())\n",
    "print(file.head(25))"
   ]
  },
  {
   "cell_type": "markdown",
   "metadata": {},
   "source": [
    "### Conclusion"
   ]
  },
  {
   "cell_type": "raw",
   "metadata": {},
   "source": [
    "# I have opened the file using the read_csv with separator as \\t. I have printed t gone through the columns and the data types. I have printed first five rows of data."
   ]
  },
  {
   "cell_type": "markdown",
   "metadata": {},
   "source": [
    "### Step 2. Data preprocessing"
   ]
  },
  {
   "cell_type": "code",
   "execution_count": null,
   "metadata": {},
   "outputs": [],
   "source": [
    "file.isnull().sum()\n"
   ]
  },
  {
   "cell_type": "raw",
   "metadata": {},
   "source": [
    "# Used isnull().sum() to find the empty values in all columns of the table."
   ]
  },
  {
   "cell_type": "code",
   "execution_count": null,
   "metadata": {},
   "outputs": [],
   "source": [
    "file['floors_total'] = (file['floors_total'].fillna(0))\n",
    "file['floors_total'].isnull().sum()\n",
    "file['floors_total'].unique()"
   ]
  },
  {
   "cell_type": "raw",
   "metadata": {},
   "source": [
    "# filled floors_total column empty values with 0, where i am considering 0 as no floors (might be single floor). And checking empty values after filling using isnull(). And used unique to see the values."
   ]
  },
  {
   "cell_type": "code",
   "execution_count": null,
   "metadata": {},
   "outputs": [],
   "source": [
    "file['floors_total'] = file['floors_total'].astype('int')\n",
    "file['floors_total'].describe()"
   ]
  },
  {
   "cell_type": "markdown",
   "metadata": {},
   "source": [
    "# Changing the datatype to 'int' as floors can't be float. "
   ]
  },
  {
   "cell_type": "code",
   "execution_count": null,
   "metadata": {},
   "outputs": [],
   "source": [
    "file['is_apartment'] = (file['is_apartment'].fillna('True'))\n",
    "file['is_apartment'].isnull().sum()\n",
    "file['is_apartment'].value_counts()"
   ]
  },
  {
   "cell_type": "raw",
   "metadata": {},
   "source": [
    "# Filling is_apartment column empty values with true as in the project description, it was said all the data in the dataset related to apartments.\n",
    "I have considered every empty values as an apartment here. "
   ]
  },
  {
   "cell_type": "code",
   "execution_count": 134,
   "metadata": {},
   "outputs": [
    {
     "data": {
      "text/plain": [
       "count     23699\n",
       "unique        2\n",
       "top        True\n",
       "freq      20974\n",
       "Name: is_apartment, dtype: object"
      ]
     },
     "execution_count": 134,
     "metadata": {},
     "output_type": "execute_result"
    }
   ],
   "source": [
    "file['is_apartment'] = file['is_apartment'].astype('bool')\n",
    "file['is_apartment'].describe()"
   ]
  },
  {
   "cell_type": "raw",
   "metadata": {},
   "source": [
    "# Changing the datatype to bool as this column has true or false."
   ]
  },
  {
   "cell_type": "code",
   "execution_count": 135,
   "metadata": {},
   "outputs": [
    {
     "data": {
      "text/plain": [
       "0"
      ]
     },
     "execution_count": 135,
     "metadata": {},
     "output_type": "execute_result"
    }
   ],
   "source": [
    "file['balcony'] = (file['balcony'].fillna(0))\n",
    "file['balcony'].isnull().sum()"
   ]
  },
  {
   "cell_type": "raw",
   "metadata": {},
   "source": [
    "# Filled balcony empty values as 0, which i believe there is no balconies."
   ]
  },
  {
   "cell_type": "code",
   "execution_count": 136,
   "metadata": {},
   "outputs": [],
   "source": [
    "file['balcony'] = file['balcony'].astype('int')"
   ]
  },
  {
   "cell_type": "raw",
   "metadata": {},
   "source": [
    "# Balcony values can't be float so i changed datatype to int in this case."
   ]
  },
  {
   "cell_type": "code",
   "execution_count": 137,
   "metadata": {},
   "outputs": [
    {
     "data": {
      "text/plain": [
       "count    23699.000000\n",
       "mean         2.627361\n",
       "std          1.002996\n",
       "min          1.000000\n",
       "25%          2.400000\n",
       "50%          2.500000\n",
       "75%          2.700000\n",
       "max        100.000000\n",
       "Name: ceiling_height, dtype: float64"
      ]
     },
     "execution_count": 137,
     "metadata": {},
     "output_type": "execute_result"
    }
   ],
   "source": [
    "file['ceiling_height'] = (file['ceiling_height'].fillna(2.4))\n",
    "file['ceiling_height'].isnull().sum()\n",
    "file['ceiling_height'] = file['ceiling_height'].astype('float')\n",
    "file['ceiling_height'].describe()"
   ]
  },
  {
   "cell_type": "raw",
   "metadata": {},
   "source": [
    "# Ceiling height - For empty values i have replaced with 2.4 which is a minimum height. and changed the data type to float as this can be a float value."
   ]
  },
  {
   "cell_type": "code",
   "execution_count": 138,
   "metadata": {},
   "outputs": [
    {
     "data": {
      "text/plain": [
       "0"
      ]
     },
     "execution_count": 138,
     "metadata": {},
     "output_type": "execute_result"
    }
   ],
   "source": [
    "file['living_area'] = (file['living_area'].fillna(0))\n",
    "file['living_area'].isnull().sum()"
   ]
  },
  {
   "cell_type": "raw",
   "metadata": {},
   "source": [
    "# Filling the empty values in the living area with 0, tried with median and mean, if i do it, for some rows it shows total area is greater than living area. "
   ]
  },
  {
   "cell_type": "code",
   "execution_count": 139,
   "metadata": {},
   "outputs": [],
   "source": [
    "file['living_area'] = file['living_area'].astype('float')"
   ]
  },
  {
   "cell_type": "code",
   "execution_count": 140,
   "metadata": {},
   "outputs": [],
   "source": [
    "## Reviewer's code\n",
    "\n",
    "#(file['living_area'] > file['total_area']).sum()"
   ]
  },
  {
   "cell_type": "markdown",
   "metadata": {},
   "source": [
    "# Changed the datatype to float, as this can have float value."
   ]
  },
  {
   "cell_type": "code",
   "execution_count": 141,
   "metadata": {},
   "outputs": [
    {
     "data": {
      "text/plain": [
       "count    23699.000000\n",
       "mean        10.569807\n",
       "std          5.614434\n",
       "min          1.300000\n",
       "25%          7.400000\n",
       "50%         10.000000\n",
       "75%         11.440000\n",
       "max        112.000000\n",
       "Name: kitchen_area, dtype: float64"
      ]
     },
     "execution_count": 141,
     "metadata": {},
     "output_type": "execute_result"
    }
   ],
   "source": [
    "average_kitchen_area = file['kitchen_area'].mean()\n",
    "file['kitchen_area'] = (file['kitchen_area'].fillna(average_kitchen_area))\n",
    "file['kitchen_area'].isnull().sum()\n",
    "file['kitchen_area'].describe()"
   ]
  },
  {
   "cell_type": "code",
   "execution_count": 142,
   "metadata": {},
   "outputs": [
    {
     "data": {
      "text/plain": [
       "0"
      ]
     },
     "execution_count": 142,
     "metadata": {},
     "output_type": "execute_result"
    }
   ],
   "source": [
    "(file['kitchen_area'] > file['total_area']).sum()"
   ]
  },
  {
   "cell_type": "markdown",
   "metadata": {},
   "source": [
    "# kitchen area empty values are filled with average value from the column. "
   ]
  },
  {
   "cell_type": "code",
   "execution_count": 143,
   "metadata": {},
   "outputs": [
    {
     "data": {
      "text/plain": [
       "0"
      ]
     },
     "execution_count": 143,
     "metadata": {},
     "output_type": "execute_result"
    }
   ],
   "source": [
    "#import pandas as pd\n",
    "#file = pd.read_csv('/datasets/real_estate_data_eng.csv', sep='\\t')\n",
    "file['locality_name'] = (file['locality_name'].fillna('other'))\n",
    "file['locality_name'].isnull().sum()"
   ]
  },
  {
   "cell_type": "markdown",
   "metadata": {},
   "source": [
    "# filled locality empty values with other as this is not known."
   ]
  },
  {
   "cell_type": "code",
   "execution_count": 144,
   "metadata": {},
   "outputs": [
    {
     "data": {
      "text/plain": [
       "0"
      ]
     },
     "execution_count": 144,
     "metadata": {},
     "output_type": "execute_result"
    }
   ],
   "source": [
    "file['airports_nearest'] = (file['airports_nearest'].fillna(0))\n",
    "file['airports_nearest'].isnull().sum()"
   ]
  },
  {
   "cell_type": "markdown",
   "metadata": {},
   "source": [
    "# filled empty values with 0, where i am considering 0 as there is no nearest airport."
   ]
  },
  {
   "cell_type": "code",
   "execution_count": 145,
   "metadata": {},
   "outputs": [
    {
     "data": {
      "text/plain": [
       "0"
      ]
     },
     "execution_count": 145,
     "metadata": {},
     "output_type": "execute_result"
    }
   ],
   "source": [
    "file['cityCenters_nearest'] = (file['cityCenters_nearest'].fillna(0))\n",
    "file['cityCenters_nearest'].isnull().sum()"
   ]
  },
  {
   "cell_type": "raw",
   "metadata": {},
   "source": [
    "# filled empty values with 0, where i am considering there is no nearest citycenters."
   ]
  },
  {
   "cell_type": "code",
   "execution_count": 146,
   "metadata": {},
   "outputs": [],
   "source": [
    "file['cityCenters_nearest'] = file['cityCenters_nearest'].astype('float')"
   ]
  },
  {
   "cell_type": "code",
   "execution_count": 147,
   "metadata": {},
   "outputs": [
    {
     "data": {
      "text/plain": [
       "0"
      ]
     },
     "execution_count": 147,
     "metadata": {},
     "output_type": "execute_result"
    }
   ],
   "source": [
    "file['parks_nearest'] = (file['parks_nearest'].fillna('0'))\n",
    "file['parks_nearest'].isnull().sum()"
   ]
  },
  {
   "cell_type": "code",
   "execution_count": 148,
   "metadata": {},
   "outputs": [
    {
     "data": {
      "text/plain": [
       "0        482.0\n",
       "1          0.0\n",
       "2         90.0\n",
       "3         84.0\n",
       "4        112.0\n",
       "         ...  \n",
       "23694    796.0\n",
       "23695      0.0\n",
       "23696      0.0\n",
       "23697    173.0\n",
       "23698      0.0\n",
       "Name: parks_nearest, Length: 23699, dtype: float64"
      ]
     },
     "execution_count": 148,
     "metadata": {},
     "output_type": "execute_result"
    }
   ],
   "source": [
    "file['parks_nearest'].astype('float')"
   ]
  },
  {
   "cell_type": "raw",
   "metadata": {},
   "source": [
    "# filled empty values with 0 as there is no nearest parks."
   ]
  },
  {
   "cell_type": "code",
   "execution_count": 149,
   "metadata": {},
   "outputs": [
    {
     "data": {
      "text/plain": [
       "0"
      ]
     },
     "execution_count": 149,
     "metadata": {},
     "output_type": "execute_result"
    }
   ],
   "source": [
    "file['ponds_nearest'] = (file['ponds_nearest'].fillna('0'))\n",
    "file['ponds_nearest'].isnull().sum()"
   ]
  },
  {
   "cell_type": "code",
   "execution_count": 150,
   "metadata": {},
   "outputs": [
    {
     "data": {
      "text/plain": [
       "0        755.0\n",
       "1          0.0\n",
       "2        574.0\n",
       "3        234.0\n",
       "4         48.0\n",
       "         ...  \n",
       "23694    381.0\n",
       "23695      0.0\n",
       "23696      0.0\n",
       "23697    196.0\n",
       "23698      0.0\n",
       "Name: ponds_nearest, Length: 23699, dtype: float64"
      ]
     },
     "execution_count": 150,
     "metadata": {},
     "output_type": "execute_result"
    }
   ],
   "source": [
    "file['ponds_nearest'].astype('float')"
   ]
  },
  {
   "cell_type": "raw",
   "metadata": {},
   "source": [
    "# filled empty values with 0 as there is no nearest ponds."
   ]
  },
  {
   "cell_type": "code",
   "execution_count": 151,
   "metadata": {},
   "outputs": [
    {
     "data": {
      "text/plain": [
       "0"
      ]
     },
     "execution_count": 151,
     "metadata": {},
     "output_type": "execute_result"
    }
   ],
   "source": [
    "file['parks_around3000'] = (file['parks_around3000'].fillna('0'))\n",
    "file['parks_around3000'].isnull().sum()"
   ]
  },
  {
   "cell_type": "code",
   "execution_count": 152,
   "metadata": {},
   "outputs": [
    {
     "data": {
      "text/plain": [
       "0        1.0\n",
       "1        0.0\n",
       "2        1.0\n",
       "3        2.0\n",
       "4        2.0\n",
       "        ... \n",
       "23694    1.0\n",
       "23695    0.0\n",
       "23696    0.0\n",
       "23697    2.0\n",
       "23698    0.0\n",
       "Name: parks_around3000, Length: 23699, dtype: float64"
      ]
     },
     "execution_count": 152,
     "metadata": {},
     "output_type": "execute_result"
    }
   ],
   "source": [
    "file['parks_around3000'].astype('float')"
   ]
  },
  {
   "cell_type": "raw",
   "metadata": {},
   "source": [
    "# Filled empty values with 0, as there is no nearest parks."
   ]
  },
  {
   "cell_type": "code",
   "execution_count": 153,
   "metadata": {},
   "outputs": [
    {
     "data": {
      "text/plain": [
       "0"
      ]
     },
     "execution_count": 153,
     "metadata": {},
     "output_type": "execute_result"
    }
   ],
   "source": [
    "file['ponds_around3000'] = (file['ponds_around3000'].fillna('0'))\n",
    "file['ponds_around3000'].isnull().sum()"
   ]
  },
  {
   "cell_type": "code",
   "execution_count": 154,
   "metadata": {},
   "outputs": [
    {
     "data": {
      "text/plain": [
       "0        2.0\n",
       "1        0.0\n",
       "2        2.0\n",
       "3        3.0\n",
       "4        1.0\n",
       "        ... \n",
       "23694    3.0\n",
       "23695    0.0\n",
       "23696    0.0\n",
       "23697    3.0\n",
       "23698    0.0\n",
       "Name: ponds_around3000, Length: 23699, dtype: float64"
      ]
     },
     "execution_count": 154,
     "metadata": {},
     "output_type": "execute_result"
    }
   ],
   "source": [
    "file['ponds_around3000'].astype('float')"
   ]
  },
  {
   "cell_type": "raw",
   "metadata": {},
   "source": [
    "# Filled empty values with 0, as there is no nearest ponds."
   ]
  },
  {
   "cell_type": "code",
   "execution_count": 155,
   "metadata": {},
   "outputs": [
    {
     "data": {
      "text/plain": [
       "0"
      ]
     },
     "execution_count": 155,
     "metadata": {},
     "output_type": "execute_result"
    }
   ],
   "source": [
    "file['days_exposition'] = (file['days_exposition'].fillna('0'))\n",
    "file['days_exposition'].isnull().sum()"
   ]
  },
  {
   "cell_type": "code",
   "execution_count": 156,
   "metadata": {},
   "outputs": [
    {
     "data": {
      "text/plain": [
       "0          0.0\n",
       "1         81.0\n",
       "2        558.0\n",
       "3        424.0\n",
       "4        121.0\n",
       "         ...  \n",
       "23694      0.0\n",
       "23695     45.0\n",
       "23696      0.0\n",
       "23697    602.0\n",
       "23698      0.0\n",
       "Name: days_exposition, Length: 23699, dtype: float64"
      ]
     },
     "execution_count": 156,
     "metadata": {},
     "output_type": "execute_result"
    }
   ],
   "source": [
    "file['days_exposition'].astype('float')"
   ]
  },
  {
   "cell_type": "raw",
   "metadata": {},
   "source": [
    "# Filled empty values with 0, as there is no nearest ponds."
   ]
  },
  {
   "cell_type": "code",
   "execution_count": 157,
   "metadata": {},
   "outputs": [],
   "source": [
    "file['first_day_exposition'] = pd.to_datetime(file['first_day_exposition'], format = '%Y-%m-%dT%H:%M:%S')"
   ]
  },
  {
   "cell_type": "code",
   "execution_count": 158,
   "metadata": {},
   "outputs": [
    {
     "data": {
      "text/plain": [
       "0        16028.0\n",
       "1        18603.0\n",
       "2        13933.0\n",
       "3         6800.0\n",
       "4         8098.0\n",
       "          ...   \n",
       "23694     4232.0\n",
       "23695        0.0\n",
       "23696        0.0\n",
       "23697    10364.0\n",
       "23698        0.0\n",
       "Name: cityCenters_nearest, Length: 23699, dtype: float64"
      ]
     },
     "execution_count": 158,
     "metadata": {},
     "output_type": "execute_result"
    }
   ],
   "source": [
    "file['cityCenters_nearest'].astype('float')"
   ]
  },
  {
   "cell_type": "raw",
   "metadata": {},
   "source": [
    "# changed datatype to datetime"
   ]
  },
  {
   "cell_type": "code",
   "execution_count": 159,
   "metadata": {},
   "outputs": [
    {
     "name": "stdout",
     "output_type": "stream",
     "text": [
      "<class 'pandas.core.frame.DataFrame'>\n",
      "RangeIndex: 23699 entries, 0 to 23698\n",
      "Data columns (total 27 columns):\n",
      "total_images             23699 non-null int64\n",
      "last_price               23699 non-null float64\n",
      "total_area               23699 non-null float64\n",
      "first_day_exposition     23699 non-null datetime64[ns]\n",
      "rooms                    23699 non-null int64\n",
      "ceiling_height           23699 non-null float64\n",
      "floors_total             23699 non-null int64\n",
      "living_area              23699 non-null float64\n",
      "floor                    23699 non-null int64\n",
      "is_apartment             23699 non-null bool\n",
      "studio                   23699 non-null bool\n",
      "open_plan                23699 non-null bool\n",
      "kitchen_area             23699 non-null float64\n",
      "balcony                  23699 non-null int64\n",
      "locality_name            23699 non-null object\n",
      "airports_nearest         23699 non-null float64\n",
      "cityCenters_nearest      23699 non-null float64\n",
      "parks_around3000         23699 non-null object\n",
      "parks_nearest            23699 non-null object\n",
      "ponds_around3000         23699 non-null object\n",
      "ponds_nearest            23699 non-null object\n",
      "days_exposition          23699 non-null object\n",
      "price_per_squaremeter    23699 non-null float64\n",
      "year                     23699 non-null int64\n",
      "Month                    23699 non-null int64\n",
      "Day                      23699 non-null int64\n",
      "floor_apartment          23699 non-null object\n",
      "dtypes: bool(3), datetime64[ns](1), float64(8), int64(8), object(7)\n",
      "memory usage: 4.4+ MB\n"
     ]
    }
   ],
   "source": [
    "file.info()"
   ]
  },
  {
   "cell_type": "code",
   "execution_count": 160,
   "metadata": {},
   "outputs": [
    {
     "name": "stdout",
     "output_type": "stream",
     "text": [
      "0\n"
     ]
    }
   ],
   "source": [
    "print(file.duplicated().sum())"
   ]
  },
  {
   "cell_type": "raw",
   "metadata": {},
   "source": [
    "# Checking if there is duplicates in the dataset."
   ]
  },
  {
   "cell_type": "markdown",
   "metadata": {},
   "source": [
    "### Step 3. Make calculations and add them to the table"
   ]
  },
  {
   "cell_type": "code",
   "execution_count": 161,
   "metadata": {},
   "outputs": [
    {
     "name": "stdout",
     "output_type": "stream",
     "text": [
      "0        120370.370370\n",
      "1         82920.792079\n",
      "2         92785.714286\n",
      "3        408176.100629\n",
      "4        100000.000000\n",
      "             ...      \n",
      "23694     72490.845228\n",
      "23695     52542.372881\n",
      "23696     44091.710758\n",
      "23697    149511.400651\n",
      "23698     41795.665635\n",
      "Name: price_per_squaremeter, Length: 23699, dtype: float64\n"
     ]
    }
   ],
   "source": [
    "file['price_per_squaremeter'] = file['last_price'] / file['total_area']\n",
    "print(file['price_per_squaremeter'])"
   ]
  },
  {
   "cell_type": "raw",
   "metadata": {},
   "source": [
    "# price per square meter is calculated"
   ]
  },
  {
   "cell_type": "code",
   "execution_count": 162,
   "metadata": {},
   "outputs": [
    {
     "name": "stdout",
     "output_type": "stream",
     "text": [
      "       total_images  last_price  total_area first_day_exposition  rooms  \\\n",
      "0                20  13000000.0      108.00           2019-03-07      3   \n",
      "1                 7   3350000.0       40.40           2018-12-04      1   \n",
      "2                10   5196000.0       56.00           2015-08-20      2   \n",
      "3                 0  64900000.0      159.00           2015-07-24      3   \n",
      "4                 2  10000000.0      100.00           2018-06-19      2   \n",
      "...             ...         ...         ...                  ...    ...   \n",
      "23694             9   9700000.0      133.81           2017-03-21      3   \n",
      "23695            14   3100000.0       59.00           2018-01-15      3   \n",
      "23696            18   2500000.0       56.70           2018-02-11      2   \n",
      "23697            13  11475000.0       76.75           2017-03-28      2   \n",
      "23698             4   1350000.0       32.30           2017-07-21      1   \n",
      "\n",
      "       ceiling_height  floors_total  living_area  floor  is_apartment  ...  \\\n",
      "0                2.70            16         51.0      8          True  ...   \n",
      "1                2.40            11         18.6      1          True  ...   \n",
      "2                2.40             5         34.3      4          True  ...   \n",
      "3                2.40            14          0.0      9          True  ...   \n",
      "4                3.03            14         32.0     13          True  ...   \n",
      "...               ...           ...          ...    ...           ...  ...   \n",
      "23694            3.70             5         73.3      3          True  ...   \n",
      "23695            2.40             5         38.0      4          True  ...   \n",
      "23696            2.40             3         29.7      1          True  ...   \n",
      "23697            3.00            17          0.0     12          True  ...   \n",
      "23698            2.50             5         12.3      1          True  ...   \n",
      "\n",
      "       parks_around3000  parks_nearest  ponds_around3000  ponds_nearest  \\\n",
      "0                     1            482                 2            755   \n",
      "1                     0              0                 0              0   \n",
      "2                     1             90                 2            574   \n",
      "3                     2             84                 3            234   \n",
      "4                     2            112                 1             48   \n",
      "...                 ...            ...               ...            ...   \n",
      "23694                 1            796                 3            381   \n",
      "23695                 0              0                 0              0   \n",
      "23696                 0              0                 0              0   \n",
      "23697                 2            173                 3            196   \n",
      "23698                 0              0                 0              0   \n",
      "\n",
      "      days_exposition  price_per_squaremeter  year Month Day floor_apartment  \n",
      "0                   0          120370.370370  2019     3   7           other  \n",
      "1                  81           82920.792079  2018    12   4           first  \n",
      "2                 558           92785.714286  2015     8  20           other  \n",
      "3                 424          408176.100629  2015     7  24           other  \n",
      "4                 121          100000.000000  2018     6  19           other  \n",
      "...               ...                    ...   ...   ...  ..             ...  \n",
      "23694               0           72490.845228  2017     3  21           other  \n",
      "23695              45           52542.372881  2018     1  15           other  \n",
      "23696               0           44091.710758  2018     2  11           first  \n",
      "23697             602          149511.400651  2017     3  28           other  \n",
      "23698               0           41795.665635  2017     7  21           first  \n",
      "\n",
      "[23699 rows x 27 columns]\n"
     ]
    }
   ],
   "source": [
    "#import pandas as pd\n",
    "#import datetime\n",
    "#file = pd.read_csv('/datasets/real_estate_data_eng.csv', sep='\\t')\n",
    "file['year'] = pd.DatetimeIndex(file['first_day_exposition']).year\n",
    "print(file)"
   ]
  },
  {
   "cell_type": "raw",
   "metadata": {},
   "source": [
    "# Extracted year from the date"
   ]
  },
  {
   "cell_type": "code",
   "execution_count": 163,
   "metadata": {},
   "outputs": [
    {
     "name": "stdout",
     "output_type": "stream",
     "text": [
      "       total_images  last_price  total_area first_day_exposition  rooms  \\\n",
      "0                20  13000000.0      108.00           2019-03-07      3   \n",
      "1                 7   3350000.0       40.40           2018-12-04      1   \n",
      "2                10   5196000.0       56.00           2015-08-20      2   \n",
      "3                 0  64900000.0      159.00           2015-07-24      3   \n",
      "4                 2  10000000.0      100.00           2018-06-19      2   \n",
      "...             ...         ...         ...                  ...    ...   \n",
      "23694             9   9700000.0      133.81           2017-03-21      3   \n",
      "23695            14   3100000.0       59.00           2018-01-15      3   \n",
      "23696            18   2500000.0       56.70           2018-02-11      2   \n",
      "23697            13  11475000.0       76.75           2017-03-28      2   \n",
      "23698             4   1350000.0       32.30           2017-07-21      1   \n",
      "\n",
      "       ceiling_height  floors_total  living_area  floor  is_apartment  ...  \\\n",
      "0                2.70            16         51.0      8          True  ...   \n",
      "1                2.40            11         18.6      1          True  ...   \n",
      "2                2.40             5         34.3      4          True  ...   \n",
      "3                2.40            14          0.0      9          True  ...   \n",
      "4                3.03            14         32.0     13          True  ...   \n",
      "...               ...           ...          ...    ...           ...  ...   \n",
      "23694            3.70             5         73.3      3          True  ...   \n",
      "23695            2.40             5         38.0      4          True  ...   \n",
      "23696            2.40             3         29.7      1          True  ...   \n",
      "23697            3.00            17          0.0     12          True  ...   \n",
      "23698            2.50             5         12.3      1          True  ...   \n",
      "\n",
      "       parks_around3000  parks_nearest  ponds_around3000  ponds_nearest  \\\n",
      "0                     1            482                 2            755   \n",
      "1                     0              0                 0              0   \n",
      "2                     1             90                 2            574   \n",
      "3                     2             84                 3            234   \n",
      "4                     2            112                 1             48   \n",
      "...                 ...            ...               ...            ...   \n",
      "23694                 1            796                 3            381   \n",
      "23695                 0              0                 0              0   \n",
      "23696                 0              0                 0              0   \n",
      "23697                 2            173                 3            196   \n",
      "23698                 0              0                 0              0   \n",
      "\n",
      "      days_exposition  price_per_squaremeter  year Month Day floor_apartment  \n",
      "0                   0          120370.370370  2019     3   7           other  \n",
      "1                  81           82920.792079  2018    12   4           first  \n",
      "2                 558           92785.714286  2015     8  20           other  \n",
      "3                 424          408176.100629  2015     7  24           other  \n",
      "4                 121          100000.000000  2018     6  19           other  \n",
      "...               ...                    ...   ...   ...  ..             ...  \n",
      "23694               0           72490.845228  2017     3  21           other  \n",
      "23695              45           52542.372881  2018     1  15           other  \n",
      "23696               0           44091.710758  2018     2  11           first  \n",
      "23697             602          149511.400651  2017     3  28           other  \n",
      "23698               0           41795.665635  2017     7  21           first  \n",
      "\n",
      "[23699 rows x 27 columns]\n"
     ]
    }
   ],
   "source": [
    "file['Month'] = pd.DatetimeIndex(file['first_day_exposition']).month\n",
    "print(file)"
   ]
  },
  {
   "cell_type": "raw",
   "metadata": {},
   "source": [
    "# Extracted Month from the date"
   ]
  },
  {
   "cell_type": "code",
   "execution_count": 164,
   "metadata": {},
   "outputs": [
    {
     "name": "stdout",
     "output_type": "stream",
     "text": [
      "       total_images  last_price  total_area first_day_exposition  rooms  \\\n",
      "0                20  13000000.0      108.00           2019-03-07      3   \n",
      "1                 7   3350000.0       40.40           2018-12-04      1   \n",
      "2                10   5196000.0       56.00           2015-08-20      2   \n",
      "3                 0  64900000.0      159.00           2015-07-24      3   \n",
      "4                 2  10000000.0      100.00           2018-06-19      2   \n",
      "...             ...         ...         ...                  ...    ...   \n",
      "23694             9   9700000.0      133.81           2017-03-21      3   \n",
      "23695            14   3100000.0       59.00           2018-01-15      3   \n",
      "23696            18   2500000.0       56.70           2018-02-11      2   \n",
      "23697            13  11475000.0       76.75           2017-03-28      2   \n",
      "23698             4   1350000.0       32.30           2017-07-21      1   \n",
      "\n",
      "       ceiling_height  floors_total  living_area  floor  is_apartment  ...  \\\n",
      "0                2.70            16         51.0      8          True  ...   \n",
      "1                2.40            11         18.6      1          True  ...   \n",
      "2                2.40             5         34.3      4          True  ...   \n",
      "3                2.40            14          0.0      9          True  ...   \n",
      "4                3.03            14         32.0     13          True  ...   \n",
      "...               ...           ...          ...    ...           ...  ...   \n",
      "23694            3.70             5         73.3      3          True  ...   \n",
      "23695            2.40             5         38.0      4          True  ...   \n",
      "23696            2.40             3         29.7      1          True  ...   \n",
      "23697            3.00            17          0.0     12          True  ...   \n",
      "23698            2.50             5         12.3      1          True  ...   \n",
      "\n",
      "       parks_around3000  parks_nearest  ponds_around3000  ponds_nearest  \\\n",
      "0                     1            482                 2            755   \n",
      "1                     0              0                 0              0   \n",
      "2                     1             90                 2            574   \n",
      "3                     2             84                 3            234   \n",
      "4                     2            112                 1             48   \n",
      "...                 ...            ...               ...            ...   \n",
      "23694                 1            796                 3            381   \n",
      "23695                 0              0                 0              0   \n",
      "23696                 0              0                 0              0   \n",
      "23697                 2            173                 3            196   \n",
      "23698                 0              0                 0              0   \n",
      "\n",
      "      days_exposition  price_per_squaremeter  year Month Day floor_apartment  \n",
      "0                   0          120370.370370  2019     3   7           other  \n",
      "1                  81           82920.792079  2018    12   4           first  \n",
      "2                 558           92785.714286  2015     8  20           other  \n",
      "3                 424          408176.100629  2015     7  24           other  \n",
      "4                 121          100000.000000  2018     6  19           other  \n",
      "...               ...                    ...   ...   ...  ..             ...  \n",
      "23694               0           72490.845228  2017     3  21           other  \n",
      "23695              45           52542.372881  2018     1  15           other  \n",
      "23696               0           44091.710758  2018     2  11           first  \n",
      "23697             602          149511.400651  2017     3  28           other  \n",
      "23698               0           41795.665635  2017     7  21           first  \n",
      "\n",
      "[23699 rows x 27 columns]\n"
     ]
    }
   ],
   "source": [
    "file['Day'] = pd.DatetimeIndex(file['first_day_exposition']).day\n",
    "print(file)"
   ]
  },
  {
   "cell_type": "code",
   "execution_count": 165,
   "metadata": {},
   "outputs": [],
   "source": [
    "# Extracted Day from Date"
   ]
  },
  {
   "cell_type": "code",
   "execution_count": 166,
   "metadata": {},
   "outputs": [],
   "source": [
    "#def floor_apartment(floor):\n",
    "    #if floor == 1:\n",
    "        #return 'first'\n",
    "    #if floor == file['floors_total'].idxmax():\n",
    "        #return 'last'\n",
    "    #return 'other'\n",
    "#file['floor_apartment'] = file['floors_total'].apply(floor_apartment)\n",
    "#print(file['floor_apartment'])"
   ]
  },
  {
   "cell_type": "code",
   "execution_count": 167,
   "metadata": {},
   "outputs": [
    {
     "name": "stdout",
     "output_type": "stream",
     "text": [
      "0        other\n",
      "1        first\n",
      "2        other\n",
      "3        other\n",
      "4        other\n",
      "         ...  \n",
      "23694    other\n",
      "23695    other\n",
      "23696    first\n",
      "23697    other\n",
      "23698    first\n",
      "Name: floor_apartment, Length: 23699, dtype: object\n"
     ]
    }
   ],
   "source": [
    "def floor_apartment(row):\n",
    "    if row['floor'] == 1:\n",
    "        return 'first'\n",
    "    elif row['floor'] == row['floors_total']:\n",
    "        return 'last'\n",
    "    return 'other'\n",
    "\n",
    "file['floor_apartment'] = file.apply(floor_apartment, axis=1)\n",
    "print(file['floor_apartment'])"
   ]
  },
  {
   "cell_type": "raw",
   "metadata": {},
   "source": [
    "# Categorizing apartment floor if it is present in first, last, or other."
   ]
  },
  {
   "cell_type": "code",
   "execution_count": 168,
   "metadata": {},
   "outputs": [
    {
     "name": "stdout",
     "output_type": "stream",
     "text": [
      "0        0.472222\n",
      "1        0.460396\n",
      "2        0.612500\n",
      "3        0.000000\n",
      "4        0.320000\n",
      "           ...   \n",
      "23694    0.547792\n",
      "23695    0.644068\n",
      "23696    0.523810\n",
      "23697    0.000000\n",
      "23698    0.380805\n",
      "Name: ratio_living_area, Length: 23699, dtype: float64\n"
     ]
    }
   ],
   "source": [
    "file['ratio_living_area'] = file['living_area'] / file['total_area']\n",
    "print(file['ratio_living_area'])"
   ]
  },
  {
   "cell_type": "raw",
   "metadata": {},
   "source": [
    "# Finding ratio of living area to total area"
   ]
  },
  {
   "cell_type": "code",
   "execution_count": 169,
   "metadata": {},
   "outputs": [
    {
     "name": "stdout",
     "output_type": "stream",
     "text": [
      "0        0.231481\n",
      "1        0.272277\n",
      "2        0.148214\n",
      "3        0.066477\n",
      "4        0.410000\n",
      "           ...   \n",
      "23694    0.103356\n",
      "23695    0.144068\n",
      "23696    0.186416\n",
      "23697    0.303583\n",
      "23698    0.278638\n",
      "Name: kitchen_area, Length: 23699, dtype: float64\n"
     ]
    }
   ],
   "source": [
    "file['kitchen_area'] = file['kitchen_area'] / file['total_area']\n",
    "print(file['kitchen_area'])"
   ]
  },
  {
   "cell_type": "raw",
   "metadata": {},
   "source": [
    "# Finding Kitchen area to living area"
   ]
  },
  {
   "cell_type": "markdown",
   "metadata": {},
   "source": [
    "### Step 4. Conduct exploratory data analysis and follow the instructions below:"
   ]
  },
  {
   "cell_type": "code",
   "execution_count": 170,
   "metadata": {},
   "outputs": [
    {
     "data": {
      "text/plain": [
       "<matplotlib.axes._subplots.AxesSubplot at 0x7f6d7e9d37d0>"
      ]
     },
     "execution_count": 170,
     "metadata": {},
     "output_type": "execute_result"
    },
    {
     "data": {
      "image/png": "[encoded data removed]",
      "text/plain": [
       "<Figure size 432x288 with 1 Axes>"
      ]
     },
     "metadata": {
      "needs_background": "light"
     },
     "output_type": "display_data"
    }
   ],
   "source": [
    "file['total_area'].hist()"
   ]
  },
  {
   "cell_type": "raw",
   "metadata": {},
   "source": [
    "# Histogram for total area"
   ]
  },
  {
   "cell_type": "code",
   "execution_count": 171,
   "metadata": {},
   "outputs": [
    {
     "data": {
      "text/plain": [
       "<matplotlib.axes._subplots.AxesSubplot at 0x7f6d8003d690>"
      ]
     },
     "execution_count": 171,
     "metadata": {},
     "output_type": "execute_result"
    },
    {
     "data": {
      "image/png": "[encoded data removed]",
      "text/plain": [
       "<Figure size 432x288 with 1 Axes>"
      ]
     },
     "metadata": {
      "needs_background": "light"
     },
     "output_type": "display_data"
    }
   ],
   "source": [
    "file['last_price'].hist()"
   ]
  },
  {
   "cell_type": "raw",
   "metadata": {},
   "source": [
    "# Histogram for last price"
   ]
  },
  {
   "cell_type": "code",
   "execution_count": 172,
   "metadata": {},
   "outputs": [
    {
     "data": {
      "text/plain": [
       "<matplotlib.axes._subplots.AxesSubplot at 0x7f6d7ecdd990>"
      ]
     },
     "execution_count": 172,
     "metadata": {},
     "output_type": "execute_result"
    },
    {
     "data": {
      "image/png": "[encoded data removed]",
      "text/plain": [
       "<Figure size 432x288 with 1 Axes>"
      ]
     },
     "metadata": {
      "needs_background": "light"
     },
     "output_type": "display_data"
    }
   ],
   "source": [
    "file['rooms'].hist()"
   ]
  },
  {
   "cell_type": "raw",
   "metadata": {},
   "source": [
    "# Histogram for rooms"
   ]
  },
  {
   "cell_type": "code",
   "execution_count": 173,
   "metadata": {},
   "outputs": [
    {
     "data": {
      "text/plain": [
       "<matplotlib.axes._subplots.AxesSubplot at 0x7f6d7e9cce90>"
      ]
     },
     "execution_count": 173,
     "metadata": {},
     "output_type": "execute_result"
    },
    {
     "data": {
      "image/png": "[encoded data removed]",
      "text/plain": [
       "<Figure size 432x288 with 1 Axes>"
      ]
     },
     "metadata": {
      "needs_background": "light"
     },
     "output_type": "display_data"
    }
   ],
   "source": [
    "file['ceiling_height'].hist()"
   ]
  },
  {
   "cell_type": "raw",
   "metadata": {},
   "source": [
    "# Histogram for ceiling height"
   ]
  },
  {
   "cell_type": "code",
   "execution_count": 174,
   "metadata": {},
   "outputs": [
    {
     "data": {
      "image/png": "[encoded data removed]",
      "text/plain": [
       "<Figure size 432x288 with 1 Axes>"
      ]
     },
     "metadata": {
      "needs_background": "light"
     },
     "output_type": "display_data"
    },
    {
     "data": {
      "text/plain": [
       "count    23699.000000\n",
       "mean       156.608844\n",
       "std        213.546873\n",
       "min          0.000000\n",
       "25%         22.000000\n",
       "50%         74.000000\n",
       "75%        199.000000\n",
       "max       1580.000000\n",
       "Name: days_exposition, dtype: float64"
      ]
     },
     "execution_count": 174,
     "metadata": {},
     "output_type": "execute_result"
    }
   ],
   "source": [
    "#import pandas as pd\n",
    "import matplotlib.pyplot as plt\n",
    "#file = pd.read_csv('/datasets/real_estate_data_eng.csv', sep='\\t')\n",
    "\n",
    "file[\"days_exposition\"] = file[\"days_exposition\"].astype(int)\n",
    "file.boxplot(column=\"days_exposition\")\n",
    "plt.show()\n",
    "file['days_exposition'].describe()"
   ]
  },
  {
   "cell_type": "raw",
   "metadata": {},
   "source": [
    "# From the graph and description of this column, i could say as the average(mean) time to sell the apartment is 180 days(3 months), and min 1 day is too quick to sell the apartment, and maximum 1580 is too longer to sell the apartment. Here the median is 95 days. "
   ]
  },
  {
   "cell_type": "code",
   "execution_count": 175,
   "metadata": {},
   "outputs": [],
   "source": [
    "#file.boxplot()"
   ]
  },
  {
   "cell_type": "code",
   "execution_count": 176,
   "metadata": {},
   "outputs": [
    {
     "data": {
      "text/plain": [
       "count    2.369900e+04\n",
       "mean     6.541549e+06\n",
       "std      1.088701e+07\n",
       "min      1.219000e+04\n",
       "25%      3.400000e+06\n",
       "50%      4.650000e+06\n",
       "75%      6.800000e+06\n",
       "max      7.630000e+08\n",
       "Name: last_price, dtype: float64"
      ]
     },
     "execution_count": 176,
     "metadata": {},
     "output_type": "execute_result"
    },
    {
     "data": {
      "image/png": "[encoded data removed]",
      "text/plain": [
       "<Figure size 432x288 with 1 Axes>"
      ]
     },
     "metadata": {
      "needs_background": "light"
     },
     "output_type": "display_data"
    }
   ],
   "source": [
    "file.boxplot(column=\"last_price\")\n",
    "plt.ylim(0,50000000)\n",
    "file['last_price'].describe()"
   ]
  },
  {
   "cell_type": "code",
   "execution_count": 177,
   "metadata": {},
   "outputs": [
    {
     "data": {
      "text/html": [
       "<div>\n",
       "<style scoped>\n",
       "    .dataframe tbody tr th:only-of-type {\n",
       "        vertical-align: middle;\n",
       "    }\n",
       "\n",
       "    .dataframe tbody tr th {\n",
       "        vertical-align: top;\n",
       "    }\n",
       "\n",
       "    .dataframe thead th {\n",
       "        text-align: right;\n",
       "    }\n",
       "</style>\n",
       "<table border=\"1\" class=\"dataframe\">\n",
       "  <thead>\n",
       "    <tr style=\"text-align: right;\">\n",
       "      <th></th>\n",
       "      <th>total_images</th>\n",
       "      <th>last_price</th>\n",
       "      <th>total_area</th>\n",
       "      <th>first_day_exposition</th>\n",
       "      <th>rooms</th>\n",
       "      <th>ceiling_height</th>\n",
       "      <th>floors_total</th>\n",
       "      <th>living_area</th>\n",
       "      <th>floor</th>\n",
       "      <th>is_apartment</th>\n",
       "      <th>...</th>\n",
       "      <th>parks_nearest</th>\n",
       "      <th>ponds_around3000</th>\n",
       "      <th>ponds_nearest</th>\n",
       "      <th>days_exposition</th>\n",
       "      <th>price_per_squaremeter</th>\n",
       "      <th>year</th>\n",
       "      <th>Month</th>\n",
       "      <th>Day</th>\n",
       "      <th>floor_apartment</th>\n",
       "      <th>ratio_living_area</th>\n",
       "    </tr>\n",
       "  </thead>\n",
       "  <tbody>\n",
       "    <tr>\n",
       "      <td>12971</td>\n",
       "      <td>19</td>\n",
       "      <td>763000000.0</td>\n",
       "      <td>400.0</td>\n",
       "      <td>2017-09-30</td>\n",
       "      <td>7</td>\n",
       "      <td>2.4</td>\n",
       "      <td>10</td>\n",
       "      <td>250.0</td>\n",
       "      <td>10</td>\n",
       "      <td>True</td>\n",
       "      <td>...</td>\n",
       "      <td>530</td>\n",
       "      <td>3</td>\n",
       "      <td>756</td>\n",
       "      <td>33</td>\n",
       "      <td>1907500.0</td>\n",
       "      <td>2017</td>\n",
       "      <td>9</td>\n",
       "      <td>30</td>\n",
       "      <td>last</td>\n",
       "      <td>0.625</td>\n",
       "    </tr>\n",
       "  </tbody>\n",
       "</table>\n",
       "<p>1 rows × 28 columns</p>\n",
       "</div>"
      ],
      "text/plain": [
       "       total_images   last_price  total_area first_day_exposition  rooms  \\\n",
       "12971            19  763000000.0       400.0           2017-09-30      7   \n",
       "\n",
       "       ceiling_height  floors_total  living_area  floor  is_apartment  ...  \\\n",
       "12971             2.4            10        250.0     10          True  ...   \n",
       "\n",
       "       parks_nearest  ponds_around3000  ponds_nearest  days_exposition  \\\n",
       "12971            530                 3            756               33   \n",
       "\n",
       "      price_per_squaremeter  year  Month Day floor_apartment ratio_living_area  \n",
       "12971             1907500.0  2017      9  30            last             0.625  \n",
       "\n",
       "[1 rows x 28 columns]"
      ]
     },
     "execution_count": 177,
     "metadata": {},
     "output_type": "execute_result"
    }
   ],
   "source": [
    "file[file.last_price > 700000000]"
   ]
  },
  {
   "cell_type": "code",
   "execution_count": 178,
   "metadata": {},
   "outputs": [],
   "source": [
    "file.drop([12971], inplace=True)"
   ]
  },
  {
   "cell_type": "code",
   "execution_count": 179,
   "metadata": {},
   "outputs": [
    {
     "data": {
      "text/html": [
       "<div>\n",
       "<style scoped>\n",
       "    .dataframe tbody tr th:only-of-type {\n",
       "        vertical-align: middle;\n",
       "    }\n",
       "\n",
       "    .dataframe tbody tr th {\n",
       "        vertical-align: top;\n",
       "    }\n",
       "\n",
       "    .dataframe thead th {\n",
       "        text-align: right;\n",
       "    }\n",
       "</style>\n",
       "<table border=\"1\" class=\"dataframe\">\n",
       "  <thead>\n",
       "    <tr style=\"text-align: right;\">\n",
       "      <th></th>\n",
       "      <th>total_images</th>\n",
       "      <th>last_price</th>\n",
       "      <th>total_area</th>\n",
       "      <th>first_day_exposition</th>\n",
       "      <th>rooms</th>\n",
       "      <th>ceiling_height</th>\n",
       "      <th>floors_total</th>\n",
       "      <th>living_area</th>\n",
       "      <th>floor</th>\n",
       "      <th>is_apartment</th>\n",
       "      <th>...</th>\n",
       "      <th>parks_nearest</th>\n",
       "      <th>ponds_around3000</th>\n",
       "      <th>ponds_nearest</th>\n",
       "      <th>days_exposition</th>\n",
       "      <th>price_per_squaremeter</th>\n",
       "      <th>year</th>\n",
       "      <th>Month</th>\n",
       "      <th>Day</th>\n",
       "      <th>floor_apartment</th>\n",
       "      <th>ratio_living_area</th>\n",
       "    </tr>\n",
       "  </thead>\n",
       "  <tbody>\n",
       "    <tr>\n",
       "      <td>12970</td>\n",
       "      <td>13</td>\n",
       "      <td>2100000.0</td>\n",
       "      <td>32.0</td>\n",
       "      <td>2017-11-09</td>\n",
       "      <td>1</td>\n",
       "      <td>2.4</td>\n",
       "      <td>5</td>\n",
       "      <td>18.0</td>\n",
       "      <td>3</td>\n",
       "      <td>True</td>\n",
       "      <td>...</td>\n",
       "      <td>0</td>\n",
       "      <td>1</td>\n",
       "      <td>373</td>\n",
       "      <td>4</td>\n",
       "      <td>65625.000000</td>\n",
       "      <td>2017</td>\n",
       "      <td>11</td>\n",
       "      <td>9</td>\n",
       "      <td>other</td>\n",
       "      <td>0.562500</td>\n",
       "    </tr>\n",
       "    <tr>\n",
       "      <td>12972</td>\n",
       "      <td>5</td>\n",
       "      <td>2150000.0</td>\n",
       "      <td>47.0</td>\n",
       "      <td>2018-02-26</td>\n",
       "      <td>2</td>\n",
       "      <td>2.5</td>\n",
       "      <td>5</td>\n",
       "      <td>29.0</td>\n",
       "      <td>4</td>\n",
       "      <td>True</td>\n",
       "      <td>...</td>\n",
       "      <td>0</td>\n",
       "      <td>0</td>\n",
       "      <td>0</td>\n",
       "      <td>7</td>\n",
       "      <td>45744.680851</td>\n",
       "      <td>2018</td>\n",
       "      <td>2</td>\n",
       "      <td>26</td>\n",
       "      <td>other</td>\n",
       "      <td>0.617021</td>\n",
       "    </tr>\n",
       "  </tbody>\n",
       "</table>\n",
       "<p>2 rows × 28 columns</p>\n",
       "</div>"
      ],
      "text/plain": [
       "       total_images  last_price  total_area first_day_exposition  rooms  \\\n",
       "12970            13   2100000.0        32.0           2017-11-09      1   \n",
       "12972             5   2150000.0        47.0           2018-02-26      2   \n",
       "\n",
       "       ceiling_height  floors_total  living_area  floor  is_apartment  ...  \\\n",
       "12970             2.4             5         18.0      3          True  ...   \n",
       "12972             2.5             5         29.0      4          True  ...   \n",
       "\n",
       "       parks_nearest  ponds_around3000  ponds_nearest  days_exposition  \\\n",
       "12970              0                 1            373                4   \n",
       "12972              0                 0              0                7   \n",
       "\n",
       "      price_per_squaremeter  year  Month Day floor_apartment ratio_living_area  \n",
       "12970          65625.000000  2017     11   9           other          0.562500  \n",
       "12972          45744.680851  2018      2  26           other          0.617021  \n",
       "\n",
       "[2 rows x 28 columns]"
      ]
     },
     "execution_count": 179,
     "metadata": {},
     "output_type": "execute_result"
    }
   ],
   "source": [
    "file[12970:12972]"
   ]
  },
  {
   "cell_type": "raw",
   "metadata": {},
   "source": [
    "# found 1 outlier in and dropped that row, as it is just 0.1% of data, it doesn't affect on analysing further."
   ]
  },
  {
   "cell_type": "code",
   "execution_count": 180,
   "metadata": {},
   "outputs": [
    {
     "data": {
      "text/plain": [
       "count    23698.000000\n",
       "mean     10886.719343\n",
       "std       9634.711792\n",
       "min          0.000000\n",
       "25%       2242.000000\n",
       "50%      11247.000000\n",
       "75%      15249.250000\n",
       "max      65968.000000\n",
       "Name: cityCenters_nearest, dtype: float64"
      ]
     },
     "execution_count": 180,
     "metadata": {},
     "output_type": "execute_result"
    }
   ],
   "source": [
    "file['cityCenters_nearest'].describe()"
   ]
  },
  {
   "cell_type": "code",
   "execution_count": 181,
   "metadata": {},
   "outputs": [
    {
     "data": {
      "text/plain": [
       "0        16028.0\n",
       "1        18603.0\n",
       "2        13933.0\n",
       "3         6800.0\n",
       "4         8098.0\n",
       "          ...   \n",
       "23694     4232.0\n",
       "23695        0.0\n",
       "23696        0.0\n",
       "23697    10364.0\n",
       "23698        0.0\n",
       "Name: cityCenters_nearest, Length: 23698, dtype: float64"
      ]
     },
     "execution_count": 181,
     "metadata": {},
     "output_type": "execute_result"
    }
   ],
   "source": [
    "file['cityCenters_nearest'].astype('float')"
   ]
  },
  {
   "cell_type": "code",
   "execution_count": 182,
   "metadata": {},
   "outputs": [
    {
     "data": {
      "text/html": [
       "<div>\n",
       "<style scoped>\n",
       "    .dataframe tbody tr th:only-of-type {\n",
       "        vertical-align: middle;\n",
       "    }\n",
       "\n",
       "    .dataframe tbody tr th {\n",
       "        vertical-align: top;\n",
       "    }\n",
       "\n",
       "    .dataframe thead th {\n",
       "        text-align: right;\n",
       "    }\n",
       "</style>\n",
       "<table border=\"1\" class=\"dataframe\">\n",
       "  <thead>\n",
       "    <tr style=\"text-align: right;\">\n",
       "      <th></th>\n",
       "      <th>total_images</th>\n",
       "      <th>last_price</th>\n",
       "      <th>total_area</th>\n",
       "      <th>rooms</th>\n",
       "      <th>ceiling_height</th>\n",
       "      <th>floors_total</th>\n",
       "      <th>living_area</th>\n",
       "      <th>floor</th>\n",
       "      <th>is_apartment</th>\n",
       "      <th>studio</th>\n",
       "      <th>...</th>\n",
       "      <th>kitchen_area</th>\n",
       "      <th>balcony</th>\n",
       "      <th>airports_nearest</th>\n",
       "      <th>cityCenters_nearest</th>\n",
       "      <th>days_exposition</th>\n",
       "      <th>price_per_squaremeter</th>\n",
       "      <th>year</th>\n",
       "      <th>Month</th>\n",
       "      <th>Day</th>\n",
       "      <th>ratio_living_area</th>\n",
       "    </tr>\n",
       "  </thead>\n",
       "  <tbody>\n",
       "    <tr>\n",
       "      <td>total_images</td>\n",
       "      <td>1.000000</td>\n",
       "      <td>0.111798</td>\n",
       "      <td>0.114932</td>\n",
       "      <td>0.099027</td>\n",
       "      <td>0.016958</td>\n",
       "      <td>0.014903</td>\n",
       "      <td>0.129822</td>\n",
       "      <td>0.031286</td>\n",
       "      <td>0.039838</td>\n",
       "      <td>-0.029299</td>\n",
       "      <td>...</td>\n",
       "      <td>-0.058861</td>\n",
       "      <td>0.048808</td>\n",
       "      <td>0.039927</td>\n",
       "      <td>0.002324</td>\n",
       "      <td>-0.055558</td>\n",
       "      <td>0.134052</td>\n",
       "      <td>0.140443</td>\n",
       "      <td>0.004992</td>\n",
       "      <td>0.010135</td>\n",
       "      <td>0.079497</td>\n",
       "    </tr>\n",
       "    <tr>\n",
       "      <td>last_price</td>\n",
       "      <td>0.111798</td>\n",
       "      <td>1.000000</td>\n",
       "      <td>0.702586</td>\n",
       "      <td>0.392334</td>\n",
       "      <td>0.076503</td>\n",
       "      <td>-0.007635</td>\n",
       "      <td>0.519849</td>\n",
       "      <td>0.027020</td>\n",
       "      <td>-0.000467</td>\n",
       "      <td>-0.028160</td>\n",
       "      <td>...</td>\n",
       "      <td>-0.132451</td>\n",
       "      <td>0.004766</td>\n",
       "      <td>0.120447</td>\n",
       "      <td>-0.054746</td>\n",
       "      <td>0.061943</td>\n",
       "      <td>0.727362</td>\n",
       "      <td>-0.047128</td>\n",
       "      <td>0.000668</td>\n",
       "      <td>0.004758</td>\n",
       "      <td>-0.012058</td>\n",
       "    </tr>\n",
       "    <tr>\n",
       "      <td>total_area</td>\n",
       "      <td>0.114932</td>\n",
       "      <td>0.702586</td>\n",
       "      <td>1.000000</td>\n",
       "      <td>0.758293</td>\n",
       "      <td>0.086287</td>\n",
       "      <td>-0.075735</td>\n",
       "      <td>0.790927</td>\n",
       "      <td>-0.025141</td>\n",
       "      <td>-0.007996</td>\n",
       "      <td>-0.072761</td>\n",
       "      <td>...</td>\n",
       "      <td>-0.374744</td>\n",
       "      <td>0.009369</td>\n",
       "      <td>0.091364</td>\n",
       "      <td>-0.076858</td>\n",
       "      <td>0.097459</td>\n",
       "      <td>0.296252</td>\n",
       "      <td>-0.079923</td>\n",
       "      <td>0.004630</td>\n",
       "      <td>0.003879</td>\n",
       "      <td>0.052515</td>\n",
       "    </tr>\n",
       "    <tr>\n",
       "      <td>rooms</td>\n",
       "      <td>0.099027</td>\n",
       "      <td>0.392334</td>\n",
       "      <td>0.758293</td>\n",
       "      <td>1.000000</td>\n",
       "      <td>0.056793</td>\n",
       "      <td>-0.226040</td>\n",
       "      <td>0.744600</td>\n",
       "      <td>-0.151093</td>\n",
       "      <td>-0.005410</td>\n",
       "      <td>-0.147336</td>\n",
       "      <td>...</td>\n",
       "      <td>-0.612762</td>\n",
       "      <td>-0.015810</td>\n",
       "      <td>0.047527</td>\n",
       "      <td>-0.059733</td>\n",
       "      <td>0.079440</td>\n",
       "      <td>0.049887</td>\n",
       "      <td>-0.055375</td>\n",
       "      <td>-0.004615</td>\n",
       "      <td>0.003965</td>\n",
       "      <td>0.257742</td>\n",
       "    </tr>\n",
       "    <tr>\n",
       "      <td>ceiling_height</td>\n",
       "      <td>0.016958</td>\n",
       "      <td>0.076503</td>\n",
       "      <td>0.086287</td>\n",
       "      <td>0.056793</td>\n",
       "      <td>1.000000</td>\n",
       "      <td>-0.036769</td>\n",
       "      <td>0.088652</td>\n",
       "      <td>-0.020990</td>\n",
       "      <td>-0.031890</td>\n",
       "      <td>-0.001622</td>\n",
       "      <td>...</td>\n",
       "      <td>-0.006737</td>\n",
       "      <td>0.046483</td>\n",
       "      <td>0.013470</td>\n",
       "      <td>-0.031677</td>\n",
       "      <td>0.010423</td>\n",
       "      <td>0.108374</td>\n",
       "      <td>0.020392</td>\n",
       "      <td>-0.005916</td>\n",
       "      <td>0.000253</td>\n",
       "      <td>0.031798</td>\n",
       "    </tr>\n",
       "    <tr>\n",
       "      <td>floors_total</td>\n",
       "      <td>0.014903</td>\n",
       "      <td>-0.007635</td>\n",
       "      <td>-0.075735</td>\n",
       "      <td>-0.226040</td>\n",
       "      <td>-0.036769</td>\n",
       "      <td>1.000000</td>\n",
       "      <td>-0.149908</td>\n",
       "      <td>0.667083</td>\n",
       "      <td>-0.005564</td>\n",
       "      <td>0.066999</td>\n",
       "      <td>...</td>\n",
       "      <td>0.327735</td>\n",
       "      <td>0.175202</td>\n",
       "      <td>0.160875</td>\n",
       "      <td>0.096302</td>\n",
       "      <td>-0.026130</td>\n",
       "      <td>0.150823</td>\n",
       "      <td>0.009267</td>\n",
       "      <td>0.016542</td>\n",
       "      <td>-0.001548</td>\n",
       "      <td>-0.195626</td>\n",
       "    </tr>\n",
       "    <tr>\n",
       "      <td>living_area</td>\n",
       "      <td>0.129822</td>\n",
       "      <td>0.519849</td>\n",
       "      <td>0.790927</td>\n",
       "      <td>0.744600</td>\n",
       "      <td>0.088652</td>\n",
       "      <td>-0.149908</td>\n",
       "      <td>1.000000</td>\n",
       "      <td>-0.086069</td>\n",
       "      <td>-0.029779</td>\n",
       "      <td>-0.048145</td>\n",
       "      <td>...</td>\n",
       "      <td>-0.450239</td>\n",
       "      <td>0.021801</td>\n",
       "      <td>0.072571</td>\n",
       "      <td>-0.055584</td>\n",
       "      <td>0.100292</td>\n",
       "      <td>0.188083</td>\n",
       "      <td>-0.088522</td>\n",
       "      <td>0.006120</td>\n",
       "      <td>0.008424</td>\n",
       "      <td>0.549854</td>\n",
       "    </tr>\n",
       "    <tr>\n",
       "      <td>floor</td>\n",
       "      <td>0.031286</td>\n",
       "      <td>0.027020</td>\n",
       "      <td>-0.025141</td>\n",
       "      <td>-0.151093</td>\n",
       "      <td>-0.020990</td>\n",
       "      <td>0.667083</td>\n",
       "      <td>-0.086069</td>\n",
       "      <td>1.000000</td>\n",
       "      <td>-0.006195</td>\n",
       "      <td>0.036944</td>\n",
       "      <td>...</td>\n",
       "      <td>0.228034</td>\n",
       "      <td>0.168525</td>\n",
       "      <td>0.109159</td>\n",
       "      <td>0.062555</td>\n",
       "      <td>-0.021329</td>\n",
       "      <td>0.131427</td>\n",
       "      <td>0.004927</td>\n",
       "      <td>0.019361</td>\n",
       "      <td>0.000782</td>\n",
       "      <td>-0.140395</td>\n",
       "    </tr>\n",
       "    <tr>\n",
       "      <td>is_apartment</td>\n",
       "      <td>0.039838</td>\n",
       "      <td>-0.000467</td>\n",
       "      <td>-0.007996</td>\n",
       "      <td>-0.005410</td>\n",
       "      <td>-0.031890</td>\n",
       "      <td>-0.005564</td>\n",
       "      <td>-0.029779</td>\n",
       "      <td>-0.006195</td>\n",
       "      <td>1.000000</td>\n",
       "      <td>0.003570</td>\n",
       "      <td>...</td>\n",
       "      <td>0.006198</td>\n",
       "      <td>-0.155336</td>\n",
       "      <td>0.001019</td>\n",
       "      <td>-0.003133</td>\n",
       "      <td>-0.068951</td>\n",
       "      <td>0.006026</td>\n",
       "      <td>0.216591</td>\n",
       "      <td>0.111610</td>\n",
       "      <td>-0.009465</td>\n",
       "      <td>-0.042637</td>\n",
       "    </tr>\n",
       "    <tr>\n",
       "      <td>studio</td>\n",
       "      <td>-0.029299</td>\n",
       "      <td>-0.028160</td>\n",
       "      <td>-0.072761</td>\n",
       "      <td>-0.147336</td>\n",
       "      <td>-0.001622</td>\n",
       "      <td>0.066999</td>\n",
       "      <td>-0.048145</td>\n",
       "      <td>0.036944</td>\n",
       "      <td>0.003570</td>\n",
       "      <td>1.000000</td>\n",
       "      <td>...</td>\n",
       "      <td>0.210376</td>\n",
       "      <td>0.028905</td>\n",
       "      <td>-0.032253</td>\n",
       "      <td>-0.021864</td>\n",
       "      <td>-0.017768</td>\n",
       "      <td>0.016205</td>\n",
       "      <td>0.011959</td>\n",
       "      <td>0.000979</td>\n",
       "      <td>-0.012828</td>\n",
       "      <td>0.050377</td>\n",
       "    </tr>\n",
       "    <tr>\n",
       "      <td>open_plan</td>\n",
       "      <td>-0.024405</td>\n",
       "      <td>-0.009689</td>\n",
       "      <td>-0.034930</td>\n",
       "      <td>-0.087529</td>\n",
       "      <td>0.012271</td>\n",
       "      <td>0.050863</td>\n",
       "      <td>-0.029230</td>\n",
       "      <td>0.035827</td>\n",
       "      <td>0.001754</td>\n",
       "      <td>-0.004235</td>\n",
       "      <td>...</td>\n",
       "      <td>0.119930</td>\n",
       "      <td>0.032644</td>\n",
       "      <td>-0.026715</td>\n",
       "      <td>-0.019301</td>\n",
       "      <td>-0.017027</td>\n",
       "      <td>0.008584</td>\n",
       "      <td>-0.021096</td>\n",
       "      <td>0.025767</td>\n",
       "      <td>0.002003</td>\n",
       "      <td>0.033905</td>\n",
       "    </tr>\n",
       "    <tr>\n",
       "      <td>kitchen_area</td>\n",
       "      <td>-0.058861</td>\n",
       "      <td>-0.132451</td>\n",
       "      <td>-0.374744</td>\n",
       "      <td>-0.612762</td>\n",
       "      <td>-0.006737</td>\n",
       "      <td>0.327735</td>\n",
       "      <td>-0.450239</td>\n",
       "      <td>0.228034</td>\n",
       "      <td>0.006198</td>\n",
       "      <td>0.210376</td>\n",
       "      <td>...</td>\n",
       "      <td>1.000000</td>\n",
       "      <td>0.021360</td>\n",
       "      <td>-0.028658</td>\n",
       "      <td>-0.019740</td>\n",
       "      <td>-0.038031</td>\n",
       "      <td>0.122022</td>\n",
       "      <td>0.029017</td>\n",
       "      <td>0.004782</td>\n",
       "      <td>-0.000999</td>\n",
       "      <td>-0.370847</td>\n",
       "    </tr>\n",
       "    <tr>\n",
       "      <td>balcony</td>\n",
       "      <td>0.048808</td>\n",
       "      <td>0.004766</td>\n",
       "      <td>0.009369</td>\n",
       "      <td>-0.015810</td>\n",
       "      <td>0.046483</td>\n",
       "      <td>0.175202</td>\n",
       "      <td>0.021801</td>\n",
       "      <td>0.168525</td>\n",
       "      <td>-0.155336</td>\n",
       "      <td>0.028905</td>\n",
       "      <td>...</td>\n",
       "      <td>0.021360</td>\n",
       "      <td>1.000000</td>\n",
       "      <td>0.016894</td>\n",
       "      <td>0.034719</td>\n",
       "      <td>-0.024076</td>\n",
       "      <td>0.021750</td>\n",
       "      <td>0.004592</td>\n",
       "      <td>0.009295</td>\n",
       "      <td>0.002069</td>\n",
       "      <td>0.036604</td>\n",
       "    </tr>\n",
       "    <tr>\n",
       "      <td>airports_nearest</td>\n",
       "      <td>0.039927</td>\n",
       "      <td>0.120447</td>\n",
       "      <td>0.091364</td>\n",
       "      <td>0.047527</td>\n",
       "      <td>0.013470</td>\n",
       "      <td>0.160875</td>\n",
       "      <td>0.072571</td>\n",
       "      <td>0.109159</td>\n",
       "      <td>0.001019</td>\n",
       "      <td>-0.032253</td>\n",
       "      <td>...</td>\n",
       "      <td>-0.028658</td>\n",
       "      <td>0.016894</td>\n",
       "      <td>1.000000</td>\n",
       "      <td>0.603560</td>\n",
       "      <td>0.008777</td>\n",
       "      <td>0.282203</td>\n",
       "      <td>-0.029760</td>\n",
       "      <td>0.006184</td>\n",
       "      <td>0.002019</td>\n",
       "      <td>0.009847</td>\n",
       "    </tr>\n",
       "    <tr>\n",
       "      <td>cityCenters_nearest</td>\n",
       "      <td>0.002324</td>\n",
       "      <td>-0.054746</td>\n",
       "      <td>-0.076858</td>\n",
       "      <td>-0.059733</td>\n",
       "      <td>-0.031677</td>\n",
       "      <td>0.096302</td>\n",
       "      <td>-0.055584</td>\n",
       "      <td>0.062555</td>\n",
       "      <td>-0.003133</td>\n",
       "      <td>-0.021864</td>\n",
       "      <td>...</td>\n",
       "      <td>-0.019740</td>\n",
       "      <td>0.034719</td>\n",
       "      <td>0.603560</td>\n",
       "      <td>1.000000</td>\n",
       "      <td>-0.017114</td>\n",
       "      <td>0.036195</td>\n",
       "      <td>-0.007638</td>\n",
       "      <td>-0.004120</td>\n",
       "      <td>0.001962</td>\n",
       "      <td>0.029517</td>\n",
       "    </tr>\n",
       "    <tr>\n",
       "      <td>days_exposition</td>\n",
       "      <td>-0.055558</td>\n",
       "      <td>0.061943</td>\n",
       "      <td>0.097459</td>\n",
       "      <td>0.079440</td>\n",
       "      <td>0.010423</td>\n",
       "      <td>-0.026130</td>\n",
       "      <td>0.100292</td>\n",
       "      <td>-0.021329</td>\n",
       "      <td>-0.068951</td>\n",
       "      <td>-0.017768</td>\n",
       "      <td>...</td>\n",
       "      <td>-0.038031</td>\n",
       "      <td>-0.024076</td>\n",
       "      <td>0.008777</td>\n",
       "      <td>-0.017114</td>\n",
       "      <td>1.000000</td>\n",
       "      <td>0.021813</td>\n",
       "      <td>-0.614190</td>\n",
       "      <td>0.012178</td>\n",
       "      <td>0.006045</td>\n",
       "      <td>0.037654</td>\n",
       "    </tr>\n",
       "    <tr>\n",
       "      <td>price_per_squaremeter</td>\n",
       "      <td>0.134052</td>\n",
       "      <td>0.727362</td>\n",
       "      <td>0.296252</td>\n",
       "      <td>0.049887</td>\n",
       "      <td>0.108374</td>\n",
       "      <td>0.150823</td>\n",
       "      <td>0.188083</td>\n",
       "      <td>0.131427</td>\n",
       "      <td>0.006026</td>\n",
       "      <td>0.016205</td>\n",
       "      <td>...</td>\n",
       "      <td>0.122022</td>\n",
       "      <td>0.021750</td>\n",
       "      <td>0.282203</td>\n",
       "      <td>0.036195</td>\n",
       "      <td>0.021813</td>\n",
       "      <td>1.000000</td>\n",
       "      <td>0.009309</td>\n",
       "      <td>-0.003214</td>\n",
       "      <td>0.010225</td>\n",
       "      <td>-0.076567</td>\n",
       "    </tr>\n",
       "    <tr>\n",
       "      <td>year</td>\n",
       "      <td>0.140443</td>\n",
       "      <td>-0.047128</td>\n",
       "      <td>-0.079923</td>\n",
       "      <td>-0.055375</td>\n",
       "      <td>0.020392</td>\n",
       "      <td>0.009267</td>\n",
       "      <td>-0.088522</td>\n",
       "      <td>0.004927</td>\n",
       "      <td>0.216591</td>\n",
       "      <td>0.011959</td>\n",
       "      <td>...</td>\n",
       "      <td>0.029017</td>\n",
       "      <td>0.004592</td>\n",
       "      <td>-0.029760</td>\n",
       "      <td>-0.007638</td>\n",
       "      <td>-0.614190</td>\n",
       "      <td>0.009309</td>\n",
       "      <td>1.000000</td>\n",
       "      <td>-0.269634</td>\n",
       "      <td>-0.027421</td>\n",
       "      <td>-0.047992</td>\n",
       "    </tr>\n",
       "    <tr>\n",
       "      <td>Month</td>\n",
       "      <td>0.004992</td>\n",
       "      <td>0.000668</td>\n",
       "      <td>0.004630</td>\n",
       "      <td>-0.004615</td>\n",
       "      <td>-0.005916</td>\n",
       "      <td>0.016542</td>\n",
       "      <td>0.006120</td>\n",
       "      <td>0.019361</td>\n",
       "      <td>0.111610</td>\n",
       "      <td>0.000979</td>\n",
       "      <td>...</td>\n",
       "      <td>0.004782</td>\n",
       "      <td>0.009295</td>\n",
       "      <td>0.006184</td>\n",
       "      <td>-0.004120</td>\n",
       "      <td>0.012178</td>\n",
       "      <td>-0.003214</td>\n",
       "      <td>-0.269634</td>\n",
       "      <td>1.000000</td>\n",
       "      <td>-0.019034</td>\n",
       "      <td>0.010520</td>\n",
       "    </tr>\n",
       "    <tr>\n",
       "      <td>Day</td>\n",
       "      <td>0.010135</td>\n",
       "      <td>0.004758</td>\n",
       "      <td>0.003879</td>\n",
       "      <td>0.003965</td>\n",
       "      <td>0.000253</td>\n",
       "      <td>-0.001548</td>\n",
       "      <td>0.008424</td>\n",
       "      <td>0.000782</td>\n",
       "      <td>-0.009465</td>\n",
       "      <td>-0.012828</td>\n",
       "      <td>...</td>\n",
       "      <td>-0.000999</td>\n",
       "      <td>0.002069</td>\n",
       "      <td>0.002019</td>\n",
       "      <td>0.001962</td>\n",
       "      <td>0.006045</td>\n",
       "      <td>0.010225</td>\n",
       "      <td>-0.027421</td>\n",
       "      <td>-0.019034</td>\n",
       "      <td>1.000000</td>\n",
       "      <td>0.019168</td>\n",
       "    </tr>\n",
       "    <tr>\n",
       "      <td>ratio_living_area</td>\n",
       "      <td>0.079497</td>\n",
       "      <td>-0.012058</td>\n",
       "      <td>0.052515</td>\n",
       "      <td>0.257742</td>\n",
       "      <td>0.031798</td>\n",
       "      <td>-0.195626</td>\n",
       "      <td>0.549854</td>\n",
       "      <td>-0.140395</td>\n",
       "      <td>-0.042637</td>\n",
       "      <td>0.050377</td>\n",
       "      <td>...</td>\n",
       "      <td>-0.370847</td>\n",
       "      <td>0.036604</td>\n",
       "      <td>0.009847</td>\n",
       "      <td>0.029517</td>\n",
       "      <td>0.037654</td>\n",
       "      <td>-0.076567</td>\n",
       "      <td>-0.047992</td>\n",
       "      <td>0.010520</td>\n",
       "      <td>0.019168</td>\n",
       "      <td>1.000000</td>\n",
       "    </tr>\n",
       "  </tbody>\n",
       "</table>\n",
       "<p>21 rows × 21 columns</p>\n",
       "</div>"
      ],
      "text/plain": [
       "                       total_images  last_price  total_area     rooms  \\\n",
       "total_images               1.000000    0.111798    0.114932  0.099027   \n",
       "last_price                 0.111798    1.000000    0.702586  0.392334   \n",
       "total_area                 0.114932    0.702586    1.000000  0.758293   \n",
       "rooms                      0.099027    0.392334    0.758293  1.000000   \n",
       "ceiling_height             0.016958    0.076503    0.086287  0.056793   \n",
       "floors_total               0.014903   -0.007635   -0.075735 -0.226040   \n",
       "living_area                0.129822    0.519849    0.790927  0.744600   \n",
       "floor                      0.031286    0.027020   -0.025141 -0.151093   \n",
       "is_apartment               0.039838   -0.000467   -0.007996 -0.005410   \n",
       "studio                    -0.029299   -0.028160   -0.072761 -0.147336   \n",
       "open_plan                 -0.024405   -0.009689   -0.034930 -0.087529   \n",
       "kitchen_area              -0.058861   -0.132451   -0.374744 -0.612762   \n",
       "balcony                    0.048808    0.004766    0.009369 -0.015810   \n",
       "airports_nearest           0.039927    0.120447    0.091364  0.047527   \n",
       "cityCenters_nearest        0.002324   -0.054746   -0.076858 -0.059733   \n",
       "days_exposition           -0.055558    0.061943    0.097459  0.079440   \n",
       "price_per_squaremeter      0.134052    0.727362    0.296252  0.049887   \n",
       "year                       0.140443   -0.047128   -0.079923 -0.055375   \n",
       "Month                      0.004992    0.000668    0.004630 -0.004615   \n",
       "Day                        0.010135    0.004758    0.003879  0.003965   \n",
       "ratio_living_area          0.079497   -0.012058    0.052515  0.257742   \n",
       "\n",
       "                       ceiling_height  floors_total  living_area     floor  \\\n",
       "total_images                 0.016958      0.014903     0.129822  0.031286   \n",
       "last_price                   0.076503     -0.007635     0.519849  0.027020   \n",
       "total_area                   0.086287     -0.075735     0.790927 -0.025141   \n",
       "rooms                        0.056793     -0.226040     0.744600 -0.151093   \n",
       "ceiling_height               1.000000     -0.036769     0.088652 -0.020990   \n",
       "floors_total                -0.036769      1.000000    -0.149908  0.667083   \n",
       "living_area                  0.088652     -0.149908     1.000000 -0.086069   \n",
       "floor                       -0.020990      0.667083    -0.086069  1.000000   \n",
       "is_apartment                -0.031890     -0.005564    -0.029779 -0.006195   \n",
       "studio                      -0.001622      0.066999    -0.048145  0.036944   \n",
       "open_plan                    0.012271      0.050863    -0.029230  0.035827   \n",
       "kitchen_area                -0.006737      0.327735    -0.450239  0.228034   \n",
       "balcony                      0.046483      0.175202     0.021801  0.168525   \n",
       "airports_nearest             0.013470      0.160875     0.072571  0.109159   \n",
       "cityCenters_nearest         -0.031677      0.096302    -0.055584  0.062555   \n",
       "days_exposition              0.010423     -0.026130     0.100292 -0.021329   \n",
       "price_per_squaremeter        0.108374      0.150823     0.188083  0.131427   \n",
       "year                         0.020392      0.009267    -0.088522  0.004927   \n",
       "Month                       -0.005916      0.016542     0.006120  0.019361   \n",
       "Day                          0.000253     -0.001548     0.008424  0.000782   \n",
       "ratio_living_area            0.031798     -0.195626     0.549854 -0.140395   \n",
       "\n",
       "                       is_apartment    studio  ...  kitchen_area   balcony  \\\n",
       "total_images               0.039838 -0.029299  ...     -0.058861  0.048808   \n",
       "last_price                -0.000467 -0.028160  ...     -0.132451  0.004766   \n",
       "total_area                -0.007996 -0.072761  ...     -0.374744  0.009369   \n",
       "rooms                     -0.005410 -0.147336  ...     -0.612762 -0.015810   \n",
       "ceiling_height            -0.031890 -0.001622  ...     -0.006737  0.046483   \n",
       "floors_total              -0.005564  0.066999  ...      0.327735  0.175202   \n",
       "living_area               -0.029779 -0.048145  ...     -0.450239  0.021801   \n",
       "floor                     -0.006195  0.036944  ...      0.228034  0.168525   \n",
       "is_apartment               1.000000  0.003570  ...      0.006198 -0.155336   \n",
       "studio                     0.003570  1.000000  ...      0.210376  0.028905   \n",
       "open_plan                  0.001754 -0.004235  ...      0.119930  0.032644   \n",
       "kitchen_area               0.006198  0.210376  ...      1.000000  0.021360   \n",
       "balcony                   -0.155336  0.028905  ...      0.021360  1.000000   \n",
       "airports_nearest           0.001019 -0.032253  ...     -0.028658  0.016894   \n",
       "cityCenters_nearest       -0.003133 -0.021864  ...     -0.019740  0.034719   \n",
       "days_exposition           -0.068951 -0.017768  ...     -0.038031 -0.024076   \n",
       "price_per_squaremeter      0.006026  0.016205  ...      0.122022  0.021750   \n",
       "year                       0.216591  0.011959  ...      0.029017  0.004592   \n",
       "Month                      0.111610  0.000979  ...      0.004782  0.009295   \n",
       "Day                       -0.009465 -0.012828  ...     -0.000999  0.002069   \n",
       "ratio_living_area         -0.042637  0.050377  ...     -0.370847  0.036604   \n",
       "\n",
       "                       airports_nearest  cityCenters_nearest  days_exposition  \\\n",
       "total_images                   0.039927             0.002324        -0.055558   \n",
       "last_price                     0.120447            -0.054746         0.061943   \n",
       "total_area                     0.091364            -0.076858         0.097459   \n",
       "rooms                          0.047527            -0.059733         0.079440   \n",
       "ceiling_height                 0.013470            -0.031677         0.010423   \n",
       "floors_total                   0.160875             0.096302        -0.026130   \n",
       "living_area                    0.072571            -0.055584         0.100292   \n",
       "floor                          0.109159             0.062555        -0.021329   \n",
       "is_apartment                   0.001019            -0.003133        -0.068951   \n",
       "studio                        -0.032253            -0.021864        -0.017768   \n",
       "open_plan                     -0.026715            -0.019301        -0.017027   \n",
       "kitchen_area                  -0.028658            -0.019740        -0.038031   \n",
       "balcony                        0.016894             0.034719        -0.024076   \n",
       "airports_nearest               1.000000             0.603560         0.008777   \n",
       "cityCenters_nearest            0.603560             1.000000        -0.017114   \n",
       "days_exposition                0.008777            -0.017114         1.000000   \n",
       "price_per_squaremeter          0.282203             0.036195         0.021813   \n",
       "year                          -0.029760            -0.007638        -0.614190   \n",
       "Month                          0.006184            -0.004120         0.012178   \n",
       "Day                            0.002019             0.001962         0.006045   \n",
       "ratio_living_area              0.009847             0.029517         0.037654   \n",
       "\n",
       "                       price_per_squaremeter      year     Month       Day  \\\n",
       "total_images                        0.134052  0.140443  0.004992  0.010135   \n",
       "last_price                          0.727362 -0.047128  0.000668  0.004758   \n",
       "total_area                          0.296252 -0.079923  0.004630  0.003879   \n",
       "rooms                               0.049887 -0.055375 -0.004615  0.003965   \n",
       "ceiling_height                      0.108374  0.020392 -0.005916  0.000253   \n",
       "floors_total                        0.150823  0.009267  0.016542 -0.001548   \n",
       "living_area                         0.188083 -0.088522  0.006120  0.008424   \n",
       "floor                               0.131427  0.004927  0.019361  0.000782   \n",
       "is_apartment                        0.006026  0.216591  0.111610 -0.009465   \n",
       "studio                              0.016205  0.011959  0.000979 -0.012828   \n",
       "open_plan                           0.008584 -0.021096  0.025767  0.002003   \n",
       "kitchen_area                        0.122022  0.029017  0.004782 -0.000999   \n",
       "balcony                             0.021750  0.004592  0.009295  0.002069   \n",
       "airports_nearest                    0.282203 -0.029760  0.006184  0.002019   \n",
       "cityCenters_nearest                 0.036195 -0.007638 -0.004120  0.001962   \n",
       "days_exposition                     0.021813 -0.614190  0.012178  0.006045   \n",
       "price_per_squaremeter               1.000000  0.009309 -0.003214  0.010225   \n",
       "year                                0.009309  1.000000 -0.269634 -0.027421   \n",
       "Month                              -0.003214 -0.269634  1.000000 -0.019034   \n",
       "Day                                 0.010225 -0.027421 -0.019034  1.000000   \n",
       "ratio_living_area                  -0.076567 -0.047992  0.010520  0.019168   \n",
       "\n",
       "                       ratio_living_area  \n",
       "total_images                    0.079497  \n",
       "last_price                     -0.012058  \n",
       "total_area                      0.052515  \n",
       "rooms                           0.257742  \n",
       "ceiling_height                  0.031798  \n",
       "floors_total                   -0.195626  \n",
       "living_area                     0.549854  \n",
       "floor                          -0.140395  \n",
       "is_apartment                   -0.042637  \n",
       "studio                          0.050377  \n",
       "open_plan                       0.033905  \n",
       "kitchen_area                   -0.370847  \n",
       "balcony                         0.036604  \n",
       "airports_nearest                0.009847  \n",
       "cityCenters_nearest             0.029517  \n",
       "days_exposition                 0.037654  \n",
       "price_per_squaremeter          -0.076567  \n",
       "year                           -0.047992  \n",
       "Month                           0.010520  \n",
       "Day                             0.019168  \n",
       "ratio_living_area               1.000000  \n",
       "\n",
       "[21 rows x 21 columns]"
      ]
     },
     "execution_count": 182,
     "metadata": {},
     "output_type": "execute_result"
    }
   ],
   "source": [
    "file.corr()"
   ]
  },
  {
   "cell_type": "code",
   "execution_count": 183,
   "metadata": {},
   "outputs": [],
   "source": [
    "#I have found corr() to find the relationship between two columns.\n",
    "#From my analysis Total Square Area influences Price.\n",
    "#No.of rooms and last price has a correlation of 0.39 which is not influencing on the price.\n",
    "#Floor is having 0.02 which is not influencing the price\n",
    "#CityCentre is having -0.05 which is not at all influencing the price\n",
    "#Day of Week is having 0.0047 which is not influencing on the price\n",
    "#Month is having 0.00066 which is not influencing on the price\n",
    "#Year is having -0.047 which is not influencing on the price"
   ]
  },
  {
   "cell_type": "code",
   "execution_count": 184,
   "metadata": {},
   "outputs": [],
   "source": [
    "#file.drop(columns=['top_10_localities'])"
   ]
  },
  {
   "cell_type": "code",
   "execution_count": 185,
   "metadata": {},
   "outputs": [
    {
     "data": {
      "text/plain": [
       "Saint Peterburg      15720\n",
       "Murino village         556\n",
       "Shushary village       440\n",
       "Vsevolozhsk            398\n",
       "Pushkin                369\n",
       "Kolpino                338\n",
       "Pargolovo village      327\n",
       "Gatchina               307\n",
       "Kudrovo village        299\n",
       "Vyborg                 237\n",
       "Name: locality_name, dtype: int64"
      ]
     },
     "execution_count": 185,
     "metadata": {},
     "output_type": "execute_result"
    }
   ],
   "source": [
    "file['locality_name'].value_counts().head(10)"
   ]
  },
  {
   "cell_type": "code",
   "execution_count": 186,
   "metadata": {},
   "outputs": [
    {
     "name": "stdout",
     "output_type": "stream",
     "text": [
      "       total_images  last_price  total_area first_day_exposition  rooms  \\\n",
      "0                20  13000000.0      108.00           2019-03-07      3   \n",
      "1                 7   3350000.0       40.40           2018-12-04      1   \n",
      "2                10   5196000.0       56.00           2015-08-20      2   \n",
      "3                 0  64900000.0      159.00           2015-07-24      3   \n",
      "4                 2  10000000.0      100.00           2018-06-19      2   \n",
      "...             ...         ...         ...                  ...    ...   \n",
      "23689            13   3550000.0       35.30           2018-02-28      1   \n",
      "23690             3   5500000.0       52.00           2018-07-19      2   \n",
      "23691            11   9470000.0       72.90           2016-10-13      2   \n",
      "23694             9   9700000.0      133.81           2017-03-21      3   \n",
      "23697            13  11475000.0       76.75           2017-03-28      2   \n",
      "\n",
      "       ceiling_height  floors_total  living_area  floor  is_apartment  ...  \\\n",
      "0                2.70            16         51.0      8          True  ...   \n",
      "1                2.40            11         18.6      1          True  ...   \n",
      "2                2.40             5         34.3      4          True  ...   \n",
      "3                2.40            14          0.0      9          True  ...   \n",
      "4                3.03            14         32.0     13          True  ...   \n",
      "...               ...           ...          ...    ...           ...  ...   \n",
      "23689            2.86            15         16.3      4          True  ...   \n",
      "23690            2.40             5         31.0      2          True  ...   \n",
      "23691            2.75            25         40.3      7          True  ...   \n",
      "23694            3.70             5         73.3      3          True  ...   \n",
      "23697            3.00            17          0.0     12          True  ...   \n",
      "\n",
      "       parks_nearest  ponds_around3000  ponds_nearest  days_exposition  \\\n",
      "0                482                 2            755                0   \n",
      "1                  0                 0              0               81   \n",
      "2                 90                 2            574              558   \n",
      "3                 84                 3            234              424   \n",
      "4                112                 1             48              121   \n",
      "...              ...               ...            ...              ...   \n",
      "23689            353                 2            652               29   \n",
      "23690            300                 0              0               15   \n",
      "23691              0                 1            806              519   \n",
      "23694            796                 3            381                0   \n",
      "23697            173                 3            196              602   \n",
      "\n",
      "      price_per_squaremeter  year  Month Day floor_apartment ratio_living_area  \n",
      "0             120370.370370  2019      3   7           other          0.472222  \n",
      "1              82920.792079  2018     12   4           first          0.460396  \n",
      "2              92785.714286  2015      8  20           other          0.612500  \n",
      "3             408176.100629  2015      7  24           other          0.000000  \n",
      "4             100000.000000  2018      6  19           other          0.320000  \n",
      "...                     ...   ...    ...  ..             ...               ...  \n",
      "23689         100566.572238  2018      2  28           other          0.461756  \n",
      "23690         105769.230769  2018      7  19           other          0.596154  \n",
      "23691         129903.978052  2016     10  13           other          0.552812  \n",
      "23694          72490.845228  2017      3  21           other          0.547792  \n",
      "23697         149511.400651  2017      3  28           other          0.000000  \n",
      "\n",
      "[18692 rows x 28 columns]\n"
     ]
    }
   ],
   "source": [
    "top_localities = ['Saint Peterburg', 'Murino village', 'Shushary village', 'Vsevolozhsk', 'Pushkin', 'Kolpino', 'Pargolovo village', 'Gatchina', 'Kudrovo village', 'Vyborg']\n",
    "top_10_test = file['locality_name'].isin(top_localities)\n",
    "df_top_10 = file[top_10_test]\n",
    "print(df_top_10)"
   ]
  },
  {
   "cell_type": "code",
   "execution_count": 187,
   "metadata": {},
   "outputs": [
    {
     "data": {
      "text/plain": [
       "<matplotlib.axes._subplots.AxesSubplot at 0x7f6d7ed1e310>"
      ]
     },
     "execution_count": 187,
     "metadata": {},
     "output_type": "execute_result"
    },
    {
     "data": {
      "image/png": "[encoded data removed]",
      "text/plain": [
       "<Figure size 864x360 with 1 Axes>"
      ]
     },
     "metadata": {
      "needs_background": "light"
     },
     "output_type": "display_data"
    }
   ],
   "source": [
    "(df_top_10\n",
    "         .pivot_table(index='locality_name', values='price_per_squaremeter', aggfunc='mean')\n",
    "         .plot(grid=True, figsize=(12,5)))"
   ]
  },
  {
   "cell_type": "raw",
   "metadata": {},
   "source": [
    "# Saint Peterburgh is having highest price, and Vyborg is having lowest price."
   ]
  },
  {
   "cell_type": "code",
   "execution_count": 188,
   "metadata": {},
   "outputs": [
    {
     "data": {
      "text/plain": [
       "<matplotlib.axes._subplots.AxesSubplot at 0x7f6d7edd4ed0>"
      ]
     },
     "execution_count": 188,
     "metadata": {},
     "output_type": "execute_result"
    },
    {
     "data": {
      "image/png": "[encoded data removed]",
      "text/plain": [
       "<Figure size 432x288 with 1 Axes>"
      ]
     },
     "metadata": {
      "needs_background": "light"
     },
     "output_type": "display_data"
    }
   ],
   "source": [
    "downtown = file[file['locality_name'] == 'Saint Peterburg'].reset_index(drop=True)\n",
    "downtown['price_per_km'] = downtown['cityCenters_nearest'] / 1000\n",
    "downtown['price_per_km'] = downtown['price_per_km'].round()\n",
    "downtown = downtown.pivot_table(index= 'price_per_km', values='last_price', aggfunc='mean')\n",
    "downtown.plot(kind='bar', y='last_price')"
   ]
  },
  {
   "cell_type": "raw",
   "metadata": {},
   "source": [
    "# From this graph, it significantly shifts at 8.0 kms. So the downtown area is considered to be till 8km in the x-axis."
   ]
  },
  {
   "cell_type": "code",
   "execution_count": 189,
   "metadata": {},
   "outputs": [
    {
     "data": {
      "text/html": [
       "<div>\n",
       "<style scoped>\n",
       "    .dataframe tbody tr th:only-of-type {\n",
       "        vertical-align: middle;\n",
       "    }\n",
       "\n",
       "    .dataframe tbody tr th {\n",
       "        vertical-align: top;\n",
       "    }\n",
       "\n",
       "    .dataframe thead th {\n",
       "        text-align: right;\n",
       "    }\n",
       "</style>\n",
       "<table border=\"1\" class=\"dataframe\">\n",
       "  <thead>\n",
       "    <tr style=\"text-align: right;\">\n",
       "      <th></th>\n",
       "      <th>total_area</th>\n",
       "      <th>last_price</th>\n",
       "      <th>rooms</th>\n",
       "      <th>ceiling_height</th>\n",
       "    </tr>\n",
       "  </thead>\n",
       "  <tbody>\n",
       "    <tr>\n",
       "      <td>total_area</td>\n",
       "      <td>1.000000</td>\n",
       "      <td>0.721687</td>\n",
       "      <td>0.767173</td>\n",
       "      <td>0.135304</td>\n",
       "    </tr>\n",
       "    <tr>\n",
       "      <td>last_price</td>\n",
       "      <td>0.721687</td>\n",
       "      <td>1.000000</td>\n",
       "      <td>0.408601</td>\n",
       "      <td>0.101416</td>\n",
       "    </tr>\n",
       "    <tr>\n",
       "      <td>rooms</td>\n",
       "      <td>0.767173</td>\n",
       "      <td>0.408601</td>\n",
       "      <td>1.000000</td>\n",
       "      <td>0.105408</td>\n",
       "    </tr>\n",
       "    <tr>\n",
       "      <td>ceiling_height</td>\n",
       "      <td>0.135304</td>\n",
       "      <td>0.101416</td>\n",
       "      <td>0.105408</td>\n",
       "      <td>1.000000</td>\n",
       "    </tr>\n",
       "  </tbody>\n",
       "</table>\n",
       "</div>"
      ],
      "text/plain": [
       "                total_area  last_price     rooms  ceiling_height\n",
       "total_area        1.000000    0.721687  0.767173        0.135304\n",
       "last_price        0.721687    1.000000  0.408601        0.101416\n",
       "rooms             0.767173    0.408601  1.000000        0.105408\n",
       "ceiling_height    0.135304    0.101416  0.105408        1.000000"
      ]
     },
     "execution_count": 189,
     "metadata": {},
     "output_type": "execute_result"
    },
    {
     "data": {
      "image/png": "[encoded data removed]",
      "text/plain": [
       "<Figure size 864x864 with 16 Axes>"
      ]
     },
     "metadata": {
      "needs_background": "light"
     },
     "output_type": "display_data"
    }
   ],
   "source": [
    "apartments_downtown = file[file['cityCenters_nearest'] <= 8000]\n",
    "apartments = apartments_downtown[['total_area','last_price','rooms','ceiling_height']]\n",
    "pd.plotting.scatter_matrix(apartments, figsize = (12, 12))\n",
    "apartments.corr()"
   ]
  },
  {
   "cell_type": "code",
   "execution_count": 190,
   "metadata": {},
   "outputs": [],
   "source": [
    "#filtered apartments which are located in 8 km. And found the correlation between the columns. The total area and price are related. Total area and rooms are related.\n",
    "#Price and rooms are slightly related on each other. "
   ]
  },
  {
   "cell_type": "code",
   "execution_count": 191,
   "metadata": {},
   "outputs": [
    {
     "name": "stdout",
     "output_type": "stream",
     "text": [
      "                       total_images  last_price  total_area     rooms  \\\n",
      "total_images               1.000000    0.128948    0.123388  0.105133   \n",
      "last_price                 0.128948    1.000000    0.721687  0.408601   \n",
      "total_area                 0.123388    0.721687    1.000000  0.767173   \n",
      "rooms                      0.105133    0.408601    0.767173  1.000000   \n",
      "ceiling_height             0.052340    0.101416    0.135304  0.105408   \n",
      "floors_total              -0.036223   -0.016151   -0.110021 -0.250908   \n",
      "living_area                0.134150    0.538512    0.794212  0.749915   \n",
      "floor                     -0.004428    0.037732   -0.027818 -0.152049   \n",
      "is_apartment               0.067466   -0.000219   -0.002455  0.001926   \n",
      "studio                    -0.039686   -0.028662   -0.075013 -0.151519   \n",
      "open_plan                 -0.042577   -0.008101   -0.034564 -0.095308   \n",
      "kitchen_area              -0.060674   -0.145092   -0.389082 -0.582772   \n",
      "balcony                    0.021008   -0.018691   -0.040721 -0.076525   \n",
      "airports_nearest           0.086224    0.384497    0.438607  0.365728   \n",
      "cityCenters_nearest        0.078733    0.316711    0.363101  0.286989   \n",
      "days_exposition           -0.047900    0.077479    0.110348  0.107300   \n",
      "price_per_squaremeter      0.147786    0.772813    0.401291  0.166103   \n",
      "year                       0.120634   -0.076616   -0.103381 -0.087775   \n",
      "Month                     -0.003846   -0.003606   -0.001249 -0.011608   \n",
      "Day                        0.013070    0.009294    0.011919  0.005845   \n",
      "ratio_living_area          0.079963   -0.004045    0.060751  0.229891   \n",
      "\n",
      "                       ceiling_height  floors_total  living_area     floor  \\\n",
      "total_images                 0.052340     -0.036223     0.134150 -0.004428   \n",
      "last_price                   0.101416     -0.016151     0.538512  0.037732   \n",
      "total_area                   0.135304     -0.110021     0.794212 -0.027818   \n",
      "rooms                        0.105408     -0.250908     0.749915 -0.152049   \n",
      "ceiling_height               1.000000     -0.070773     0.144198 -0.044577   \n",
      "floors_total                -0.070773      1.000000    -0.171350  0.704257   \n",
      "living_area                  0.144198     -0.171350     1.000000 -0.088014   \n",
      "floor                       -0.044577      0.704257    -0.088014  1.000000   \n",
      "is_apartment                -0.061425     -0.032135    -0.025322 -0.021403   \n",
      "studio                      -0.005228      0.085031    -0.051810  0.060419   \n",
      "open_plan                    0.034230      0.074998    -0.035924  0.039592   \n",
      "kitchen_area                -0.045098      0.353991    -0.426005  0.234713   \n",
      "balcony                      0.023803      0.201141    -0.034356  0.184318   \n",
      "airports_nearest             0.142527     -0.139010     0.375727 -0.088730   \n",
      "cityCenters_nearest          0.105866     -0.064914     0.299437 -0.036447   \n",
      "days_exposition              0.026522     -0.023061     0.121065 -0.016753   \n",
      "price_per_squaremeter        0.108170      0.095243     0.289327  0.096937   \n",
      "year                         0.008640     -0.004669    -0.116797 -0.003543   \n",
      "Month                        0.000640      0.034599     0.004929  0.036449   \n",
      "Day                         -0.008141      0.000725     0.008807 -0.002109   \n",
      "ratio_living_area            0.061737     -0.173316     0.530702 -0.132343   \n",
      "\n",
      "                       is_apartment    studio  ...  kitchen_area   balcony  \\\n",
      "total_images               0.067466 -0.039686  ...     -0.060674  0.021008   \n",
      "last_price                -0.000219 -0.028662  ...     -0.145092 -0.018691   \n",
      "total_area                -0.002455 -0.075013  ...     -0.389082 -0.040721   \n",
      "rooms                      0.001926 -0.151519  ...     -0.582772 -0.076525   \n",
      "ceiling_height            -0.061425 -0.005228  ...     -0.045098  0.023803   \n",
      "floors_total              -0.032135  0.085031  ...      0.353991  0.201141   \n",
      "living_area               -0.025322 -0.051810  ...     -0.426005 -0.034356   \n",
      "floor                     -0.021403  0.060419  ...      0.234713  0.184318   \n",
      "is_apartment               1.000000 -0.006326  ...     -0.000899 -0.130178   \n",
      "studio                    -0.006326  1.000000  ...      0.222802  0.029763   \n",
      "open_plan                  0.002474 -0.005651  ...      0.134304  0.043584   \n",
      "kitchen_area              -0.000899  0.222802  ...      1.000000  0.057597   \n",
      "balcony                   -0.130178  0.029763  ...      0.057597  1.000000   \n",
      "airports_nearest          -0.016137 -0.037224  ...     -0.153951 -0.147720   \n",
      "cityCenters_nearest       -0.021432 -0.031363  ...     -0.129822 -0.102681   \n",
      "days_exposition           -0.066611 -0.025641  ...     -0.056539 -0.024745   \n",
      "price_per_squaremeter     -0.002675  0.005665  ...      0.054528 -0.014268   \n",
      "year                       0.195006  0.015026  ...      0.052980  0.018593   \n",
      "Month                      0.107647 -0.006822  ...     -0.004069  0.001671   \n",
      "Day                       -0.009730 -0.010872  ...     -0.011062 -0.009652   \n",
      "ratio_living_area         -0.044405  0.046224  ...     -0.316468  0.016772   \n",
      "\n",
      "                       airports_nearest  cityCenters_nearest  days_exposition  \\\n",
      "total_images                   0.086224             0.078733        -0.047900   \n",
      "last_price                     0.384497             0.316711         0.077479   \n",
      "total_area                     0.438607             0.363101         0.110348   \n",
      "rooms                          0.365728             0.286989         0.107300   \n",
      "ceiling_height                 0.142527             0.105866         0.026522   \n",
      "floors_total                  -0.139010            -0.064914        -0.023061   \n",
      "living_area                    0.375727             0.299437         0.121065   \n",
      "floor                         -0.088730            -0.036447        -0.016753   \n",
      "is_apartment                  -0.016137            -0.021432        -0.066611   \n",
      "studio                        -0.037224            -0.031363        -0.025641   \n",
      "open_plan                     -0.026525            -0.019143        -0.025585   \n",
      "kitchen_area                  -0.153951            -0.129822        -0.056539   \n",
      "balcony                       -0.147720            -0.102681        -0.024745   \n",
      "airports_nearest               1.000000             0.905215         0.115643   \n",
      "cityCenters_nearest            0.905215             1.000000         0.096994   \n",
      "days_exposition                0.115643             0.096994         1.000000   \n",
      "price_per_squaremeter          0.568643             0.491635         0.063842   \n",
      "year                          -0.124265            -0.111496        -0.632440   \n",
      "Month                          0.004215             0.006945         0.007251   \n",
      "Day                            0.007355             0.000649         0.023781   \n",
      "ratio_living_area              0.060475             0.039816         0.063983   \n",
      "\n",
      "                       price_per_squaremeter      year     Month       Day  \\\n",
      "total_images                        0.147786  0.120634 -0.003846  0.013070   \n",
      "last_price                          0.772813 -0.076616 -0.003606  0.009294   \n",
      "total_area                          0.401291 -0.103381 -0.001249  0.011919   \n",
      "rooms                               0.166103 -0.087775 -0.011608  0.005845   \n",
      "ceiling_height                      0.108170  0.008640  0.000640 -0.008141   \n",
      "floors_total                        0.095243 -0.004669  0.034599  0.000725   \n",
      "living_area                         0.289327 -0.116797  0.004929  0.008807   \n",
      "floor                               0.096937 -0.003543  0.036449 -0.002109   \n",
      "is_apartment                       -0.002675  0.195006  0.107647 -0.009730   \n",
      "studio                              0.005665  0.015026 -0.006822 -0.010872   \n",
      "open_plan                           0.006858 -0.027028  0.035015  0.011583   \n",
      "kitchen_area                        0.054528  0.052980 -0.004069 -0.011062   \n",
      "balcony                            -0.014268  0.018593  0.001671 -0.009652   \n",
      "airports_nearest                    0.568643 -0.124265  0.004215  0.007355   \n",
      "cityCenters_nearest                 0.491635 -0.111496  0.006945  0.000649   \n",
      "days_exposition                     0.063842 -0.632440  0.007251  0.023781   \n",
      "price_per_squaremeter               1.000000 -0.059246 -0.003376  0.016334   \n",
      "year                               -0.059246  1.000000 -0.250865 -0.044388   \n",
      "Month                              -0.003376 -0.250865  1.000000 -0.013049   \n",
      "Day                                 0.016334 -0.044388 -0.013049  1.000000   \n",
      "ratio_living_area                  -0.043935 -0.074927  0.020124  0.015872   \n",
      "\n",
      "                       ratio_living_area  \n",
      "total_images                    0.079963  \n",
      "last_price                     -0.004045  \n",
      "total_area                      0.060751  \n",
      "rooms                           0.229891  \n",
      "ceiling_height                  0.061737  \n",
      "floors_total                   -0.173316  \n",
      "living_area                     0.530702  \n",
      "floor                          -0.132343  \n",
      "is_apartment                   -0.044405  \n",
      "studio                          0.046224  \n",
      "open_plan                       0.032075  \n",
      "kitchen_area                   -0.316468  \n",
      "balcony                         0.016772  \n",
      "airports_nearest                0.060475  \n",
      "cityCenters_nearest             0.039816  \n",
      "days_exposition                 0.063983  \n",
      "price_per_squaremeter          -0.043935  \n",
      "year                           -0.074927  \n",
      "Month                           0.020124  \n",
      "Day                             0.015872  \n",
      "ratio_living_area               1.000000  \n",
      "\n",
      "[21 rows x 21 columns]\n"
     ]
    }
   ],
   "source": [
    "print(apartments_downtown.corr())"
   ]
  },
  {
   "cell_type": "code",
   "execution_count": 192,
   "metadata": {},
   "outputs": [],
   "source": [
    "# From this i analyse, No. of rooms is slightly positive, which means slightly affects on the price.\n",
    "#Floor will not affect on the price.\n",
    "#Downtown area will not affect the price.\n",
    "#Date of Ad publication will not affect the price.\n",
    "#It is same as the overall city, For the overall city data total area influences the price. Here from the downtown it is same."
   ]
  },
  {
   "cell_type": "markdown",
   "metadata": {},
   "source": [
    "### Step 5. Overall conclusion"
   ]
  },
  {
   "cell_type": "code",
   "execution_count": 66,
   "metadata": {},
   "outputs": [],
   "source": [
    "#Based on the data i analyse that total area affects the price. There is nothing much difference with the parameters affecting the price.\n",
    "#On Overall, the price affects based on the total area. If the total area increases, price increases. Rooms are based on the total area."
   ]
  }
 ],
 "metadata": {
  "kernelspec": {
   "display_name": "Python 3 (ipykernel)",
   "language": "python",
   "name": "python3"
  },
  "language_info": {
   "codemirror_mode": {
    "name": "ipython",
    "version": 3
   },
   "file_extension": ".py",
   "mimetype": "text/x-python",
   "name": "python",
   "nbconvert_exporter": "python",
   "pygments_lexer": "ipython3",
   "version": "3.9.5"
  },
  "toc": {
   "base_numbering": 1,
   "nav_menu": {},
   "number_sections": true,
   "sideBar": true,
   "skip_h1_title": true,
   "title_cell": "Table of Contents",
   "title_sidebar": "Contents",
   "toc_cell": false,
   "toc_position": {},
   "toc_section_display": true,
   "toc_window_display": false
  }
 },
 "nbformat": 4,
 "nbformat_minor": 2
}
